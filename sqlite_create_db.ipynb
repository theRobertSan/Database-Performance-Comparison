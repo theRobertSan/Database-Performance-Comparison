{
 "cells": [
  {
   "cell_type": "markdown",
   "metadata": {},
   "source": [
    "### Imports"
   ]
  },
  {
   "cell_type": "code",
   "execution_count": 86,
   "metadata": {},
   "outputs": [],
   "source": [
    "import pandas as pd\n",
    "import sqlite3\n",
    "import os"
   ]
  },
  {
   "cell_type": "markdown",
   "metadata": {},
   "source": [
    "### Connect to the DB"
   ]
  },
  {
   "cell_type": "code",
   "execution_count": 87,
   "metadata": {},
   "outputs": [],
   "source": [
    "db_file = \"sqlite3_group10.db\"\n",
    "\n",
    "# Delete db file if it exists\n",
    "if os.path.exists(db_file):\n",
    "    os.remove(db_file)\n",
    "\n",
    "conn = sqlite3.connect(db_file)\n",
    "cur = conn.cursor()"
   ]
  },
  {
   "cell_type": "markdown",
   "metadata": {},
   "source": [
    "### Read CSV files"
   ]
  },
  {
   "cell_type": "code",
   "execution_count": 88,
   "metadata": {},
   "outputs": [],
   "source": [
    "csv_folder = \"archive\"\n",
    "\n",
    "completed_highschool_df = pd.read_csv(f\"{csv_folder}/PercentOver25CompletedHighSchool.csv\", encoding=\"ISO-8859-1\")\n",
    "police_killings_df = pd.read_csv(f\"{csv_folder}/PoliceKillingsUS.csv\", encoding=\"ISO-8859-1\")\n",
    "race_by_city_df = pd.read_csv(f\"{csv_folder}/ShareRaceByCity.csv\", encoding=\"ISO-8859-1\")"
   ]
  },
  {
   "cell_type": "markdown",
   "metadata": {},
   "source": [
    "### Create Tables"
   ]
  },
  {
   "cell_type": "markdown",
   "metadata": {},
   "source": [
    "##### Create State Table"
   ]
  },
  {
   "cell_type": "code",
   "execution_count": 89,
   "metadata": {},
   "outputs": [
    {
     "data": {
      "text/plain": [
       "<sqlite3.Cursor at 0x7fa31999b640>"
      ]
     },
     "execution_count": 89,
     "metadata": {},
     "output_type": "execute_result"
    }
   ],
   "source": [
    "create_state_query = '''\n",
    "CREATE TABLE state (\n",
    "  id INTEGER PRIMARY KEY AUTOINCREMENT,\n",
    "  acronym CHAR(2) NOT NULL\n",
    ");\n",
    "'''\n",
    "\n",
    "cur.execute(create_state_query)"
   ]
  },
  {
   "cell_type": "markdown",
   "metadata": {},
   "source": [
    "##### Create City Table"
   ]
  },
  {
   "cell_type": "code",
   "execution_count": 90,
   "metadata": {},
   "outputs": [
    {
     "data": {
      "text/plain": [
       "<sqlite3.Cursor at 0x7fa31999b640>"
      ]
     },
     "execution_count": 90,
     "metadata": {},
     "output_type": "execute_result"
    }
   ],
   "source": [
    "create_city_query = '''\n",
    "CREATE TABLE city (\n",
    "  id INTEGER PRIMARY KEY AUTOINCREMENT,\n",
    "  name TEXT NOT NULL,\n",
    "  state_id INTEGER NOT NULL,\n",
    "  FOREIGN KEY (state_id) REFERENCES state(id),\n",
    "  UNIQUE(id, state_id)\n",
    ");\n",
    "'''\n",
    "\n",
    "cur.execute(create_city_query)"
   ]
  },
  {
   "cell_type": "markdown",
   "metadata": {},
   "source": [
    "#### Create Percent_over_25_completed_highschool Table"
   ]
  },
  {
   "cell_type": "code",
   "execution_count": 91,
   "metadata": {},
   "outputs": [
    {
     "data": {
      "text/plain": [
       "<sqlite3.Cursor at 0x7fa31999b640>"
      ]
     },
     "execution_count": 91,
     "metadata": {},
     "output_type": "execute_result"
    }
   ],
   "source": [
    "create_completed_highschool_query = '''\n",
    "CREATE TABLE percent_over_25_completed_highschool (\n",
    "  id INTEGER PRIMARY KEY AUTOINCREMENT,\n",
    "  percentage FLOAT NOT NULL,\n",
    "  city_id INTEGER NOT NULL,\n",
    "  FOREIGN KEY (city_id) REFERENCES city(id)\n",
    ");\n",
    "'''\n",
    "\n",
    "cur.execute(create_completed_highschool_query)"
   ]
  },
  {
   "cell_type": "markdown",
   "metadata": {},
   "source": [
    "#### Create Race Table"
   ]
  },
  {
   "cell_type": "code",
   "execution_count": 92,
   "metadata": {},
   "outputs": [
    {
     "data": {
      "text/plain": [
       "<sqlite3.Cursor at 0x7fa31999b640>"
      ]
     },
     "execution_count": 92,
     "metadata": {},
     "output_type": "execute_result"
    }
   ],
   "source": [
    "create_race_query = '''\n",
    "CREATE TABLE race (\n",
    "  id INTEGER PRIMARY KEY AUTOINCREMENT,\n",
    "  name TEXT NOT NULL\n",
    ");\n",
    "'''\n",
    "\n",
    "cur.execute(create_race_query)"
   ]
  },
  {
   "cell_type": "markdown",
   "metadata": {},
   "source": [
    "##### Create Share_race_by_city Table"
   ]
  },
  {
   "cell_type": "code",
   "execution_count": 93,
   "metadata": {},
   "outputs": [
    {
     "data": {
      "text/plain": [
       "<sqlite3.Cursor at 0x7fa31999b640>"
      ]
     },
     "execution_count": 93,
     "metadata": {},
     "output_type": "execute_result"
    }
   ],
   "source": [
    "create_share_race_by_city_query = '''\n",
    "CREATE TABLE share_race_by_city (\n",
    "  id INTEGER PRIMARY KEY AUTOINCREMENT,\n",
    "  share FLOAT NOT NULL,\n",
    "  race_id INTEGER NOT NULL,\n",
    "  city_id INTEGER NOT NULL,\n",
    "  FOREIGN KEY (city_id) REFERENCES city(id),\n",
    "  FOREIGN KEY (race_id) REFERENCES race(id)\n",
    ");\n",
    "'''\n",
    "\n",
    "cur.execute(create_share_race_by_city_query)"
   ]
  },
  {
   "cell_type": "markdown",
   "metadata": {},
   "source": [
    "##### Create Police_killings Table"
   ]
  },
  {
   "cell_type": "code",
   "execution_count": 94,
   "metadata": {},
   "outputs": [
    {
     "data": {
      "text/plain": [
       "<sqlite3.Cursor at 0x7fa31999b640>"
      ]
     },
     "execution_count": 94,
     "metadata": {},
     "output_type": "execute_result"
    }
   ],
   "source": [
    "create_police_killings_query = '''\n",
    "CREATE TABLE police_killings (\n",
    "  id INTEGER PRIMARY KEY AUTOINCREMENT,\n",
    "  name TEXT NOT NULL,\n",
    "  date DATE NOT NULL,\n",
    "  manner_of_death TEXT NOT NULL,\n",
    "  armed TEXT,\n",
    "  age INTEGER,\n",
    "  gender TEXT NOT NULL,\n",
    "  race_id INTEGER,\n",
    "  city_id INTEGER,\n",
    "  signs_of_mental_illness INTEGER NOT NULL,\n",
    "  threat_level TEXT NOT NULL,\n",
    "  flee TEXT,\n",
    "  body_camera INTEGER NOT NULL,\n",
    "  FOREIGN KEY (race_id) REFERENCES race(id),\n",
    "  FOREIGN KEY (city_id) REFERENCES city(id)\n",
    ");\n",
    "'''\n",
    "\n",
    "cur.execute(create_police_killings_query)"
   ]
  },
  {
   "cell_type": "markdown",
   "metadata": {},
   "source": [
    "### Insert Data"
   ]
  },
  {
   "cell_type": "markdown",
   "metadata": {},
   "source": [
    "---\n",
    "#### State"
   ]
  },
  {
   "cell_type": "markdown",
   "metadata": {},
   "source": [
    "Insert Data Into State Table"
   ]
  },
  {
   "cell_type": "code",
   "execution_count": 95,
   "metadata": {},
   "outputs": [
    {
     "data": {
      "text/plain": [
       "51"
      ]
     },
     "execution_count": 95,
     "metadata": {},
     "output_type": "execute_result"
    }
   ],
   "source": [
    "# Get all unique states\n",
    "states_df = completed_highschool_df[\"Geographic Area\"].drop_duplicates().to_frame()\n",
    "# Rename columns to match table colum names\n",
    "states_df.rename(columns={'Geographic Area': 'acronym'}, inplace=True)\n",
    "\n",
    "states_df.to_sql(\"state\", conn, if_exists='append', index = False)"
   ]
  },
  {
   "cell_type": "markdown",
   "metadata": {},
   "source": [
    "Create Dict that maps a state to its id"
   ]
  },
  {
   "cell_type": "code",
   "execution_count": 96,
   "metadata": {},
   "outputs": [],
   "source": [
    "cur.execute(\"SELECT * FROM state;\")\n",
    "\n",
    "rows = cur.fetchall();\n",
    "state_to_id = {}\n",
    "for row in rows:\n",
    "  state_to_id[row[1]] = row[0]"
   ]
  },
  {
   "cell_type": "markdown",
   "metadata": {},
   "source": [
    "---\n",
    "#### City"
   ]
  },
  {
   "cell_type": "markdown",
   "metadata": {},
   "source": [
    "Insert Data Into City Table"
   ]
  },
  {
   "cell_type": "code",
   "execution_count": 97,
   "metadata": {},
   "outputs": [],
   "source": [
    "# Replaces redundent words with empty string\n",
    "def remove_redundency(dataframe):\n",
    "    dataframe['City'] = dataframe['City'].str.replace(' town', '')\n",
    "    dataframe['City'] = dataframe['City'].str.replace(' city', '')\n",
    "    dataframe['City'] = dataframe['City'].str.replace(' CDP', '')"
   ]
  },
  {
   "cell_type": "code",
   "execution_count": 98,
   "metadata": {},
   "outputs": [
    {
     "data": {
      "text/plain": [
       "29329"
      ]
     },
     "execution_count": 98,
     "metadata": {},
     "output_type": "execute_result"
    }
   ],
   "source": [
    "# Remove city, town or CDP from city name (so that police killings cities match)\n",
    "remove_redundency(completed_highschool_df)\n",
    "\n",
    "# Get cities and their states\n",
    "cities = completed_highschool_df.loc[:, [\"City\", \"Geographic Area\"]]\n",
    "\n",
    "# Rename columns to match table colum names\n",
    "cities.rename(columns={'City': 'name', \"Geographic Area\": \"state_id\"}, inplace=True)\n",
    "\n",
    "# Convert states to state ids\n",
    "cities[\"state_id\"] = cities[\"state_id\"].map(state_to_id)\n",
    "\n",
    "cities.to_sql(\"city\", conn, if_exists='append', index = False)"
   ]
  },
  {
   "cell_type": "markdown",
   "metadata": {},
   "source": [
    "Create Dict that maps a city to its id"
   ]
  },
  {
   "cell_type": "code",
   "execution_count": 99,
   "metadata": {},
   "outputs": [],
   "source": [
    "cur.execute(\"SELECT * FROM city;\")\n",
    "\n",
    "rows = cur.fetchall()\n",
    "city_to_id = {}\n",
    "for row in rows:\n",
    "  city_to_id[(row[1], row[2])] = row[0]"
   ]
  },
  {
   "cell_type": "markdown",
   "metadata": {},
   "source": [
    "---\n",
    "#### Percent_over_25_completed_highschool"
   ]
  },
  {
   "cell_type": "markdown",
   "metadata": {},
   "source": [
    "Insert Data Into Percent_over_25_completed_highschool Table"
   ]
  },
  {
   "cell_type": "code",
   "execution_count": 100,
   "metadata": {},
   "outputs": [],
   "source": [
    "# Given city and state, return city id\n",
    "def convert_state_and_city_to_id(city, state):\n",
    "  if (city, state_to_id[state]) in city_to_id:\n",
    "    return city_to_id[(city, state_to_id[state])]\n",
    "  return None"
   ]
  },
  {
   "cell_type": "code",
   "execution_count": 101,
   "metadata": {},
   "outputs": [
    {
     "data": {
      "text/plain": [
       "29132"
      ]
     },
     "execution_count": 101,
     "metadata": {},
     "output_type": "execute_result"
    }
   ],
   "source": [
    "# Rename columns to match table colum names\n",
    "this_completed_highschool = completed_highschool_df.rename(columns={'City': 'city_id', \"Geographic Area\": \"state\", \"percent_completed_hs\": \"percentage\"})\n",
    "\n",
    "# Convert cities to city ids\n",
    "this_completed_highschool[\"city_id\"] = this_completed_highschool.apply(lambda x: convert_state_and_city_to_id(x[\"city_id\"], x[\"state\"]), axis=1)\n",
    "\n",
    "# Drop state columns\n",
    "this_completed_highschool.drop(\"state\", inplace=True, axis=1)\n",
    "\n",
    "# Remove colums with percentage \"-\"\n",
    "this_completed_highschool = this_completed_highschool[this_completed_highschool[\"percentage\"] != \"-\"]\n",
    "\n",
    "this_completed_highschool.to_sql(\"percent_over_25_completed_highschool\", conn, if_exists='append', index = False)"
   ]
  },
  {
   "cell_type": "markdown",
   "metadata": {},
   "source": [
    "---\n",
    "#### Race"
   ]
  },
  {
   "cell_type": "markdown",
   "metadata": {},
   "source": [
    "Insert data into Race Table"
   ]
  },
  {
   "cell_type": "code",
   "execution_count": 102,
   "metadata": {},
   "outputs": [],
   "source": [
    "races = [\n",
    "    (\"white\",),\n",
    "    (\"black\",),\n",
    "    (\"native_american\",),\n",
    "    (\"asian\",),\n",
    "    (\"hispanic\",),\n",
    "    (\"other\",)\n",
    "]\n",
    "\n",
    "insert_race_query = \"INSERT INTO race (name) VALUES(?);\"\n",
    "\n",
    "cur.executemany(insert_race_query, races)\n",
    "conn.commit()"
   ]
  },
  {
   "cell_type": "markdown",
   "metadata": {},
   "source": [
    "Create Dict that maps a race to its id"
   ]
  },
  {
   "cell_type": "code",
   "execution_count": 103,
   "metadata": {},
   "outputs": [],
   "source": [
    "cur.execute(\"SELECT * FROM race;\")\n",
    "\n",
    "rows = cur.fetchall()\n",
    "race_to_id = {}\n",
    "for row in rows:\n",
    "  race_to_id[row[1]] = row[0]"
   ]
  },
  {
   "cell_type": "markdown",
   "metadata": {},
   "source": [
    "---\n",
    "#### Share_race_by_city"
   ]
  },
  {
   "cell_type": "markdown",
   "metadata": {},
   "source": [
    "Insert data into Share_race_by_city Table"
   ]
  },
  {
   "cell_type": "code",
   "execution_count": 104,
   "metadata": {},
   "outputs": [
    {
     "data": {
      "text/plain": [
       "145665"
      ]
     },
     "execution_count": 104,
     "metadata": {},
     "output_type": "execute_result"
    }
   ],
   "source": [
    "# Remove city, town or CDP from city name (so that police killings cities match)\n",
    "remove_redundency(race_by_city_df)\n",
    "race_by_city_df = race_by_city_df[(race_by_city_df['share_white'] != '(X)') | (race_by_city_df['share_black'] != '(X)') | (race_by_city_df['share_native_american'] != '(X)') | (race_by_city_df['share_asian'] != '(X)') | (race_by_city_df['share_hispanic'] != '(X)')]\n",
    "\n",
    "race_by_city_list = []\n",
    "\n",
    "# For each row which has shares for all 5 races, create 5 rows corresponding to each specific race\n",
    "for index, row in race_by_city_df.iterrows():\n",
    "  city_id = convert_state_and_city_to_id(row[1], row[0])\n",
    "\n",
    "  if (city_id == None):\n",
    "    continue\n",
    "  \n",
    "  white_share = {\n",
    "    \"city_id\": city_id, \n",
    "    \"race_id\": race_to_id[\"white\"],\n",
    "    \"share\": row[2]\n",
    "  }\n",
    "  black_share = {\n",
    "    \"city_id\": city_id, \n",
    "    \"race_id\": race_to_id[\"black\"],\n",
    "    \"share\": row[3]\n",
    "  }\n",
    "  native_american_share = {\n",
    "    \"city_id\": city_id, \n",
    "    \"race_id\": race_to_id[\"native_american\"],\n",
    "    \"share\": row[4]\n",
    "  }\n",
    "  asian_share = {\n",
    "    \"city_id\": city_id, \n",
    "    \"race_id\": race_to_id[\"asian\"],\n",
    "    \"share\": row[5]\n",
    "  }\n",
    "  hispanic_share = {\n",
    "    \"city_id\": city_id, \n",
    "    \"race_id\": race_to_id[\"hispanic\"],\n",
    "    \"share\": row[6]\n",
    "  }\n",
    "  race_by_city_list += [white_share, black_share, native_american_share, asian_share, hispanic_share]\n",
    "\n",
    "race_by_city_df = pd.DataFrame(race_by_city_list)\n",
    "\n",
    "race_by_city_df.to_sql(\"share_race_by_city\", conn, if_exists='append', index = False)"
   ]
  },
  {
   "cell_type": "markdown",
   "metadata": {},
   "source": [
    "---\n",
    "#### Police_killings"
   ]
  },
  {
   "cell_type": "markdown",
   "metadata": {},
   "source": [
    "Insert data into Police_killings Table"
   ]
  },
  {
   "cell_type": "code",
   "execution_count": 105,
   "metadata": {},
   "outputs": [],
   "source": [
    "# Given race acronym, get race id\n",
    "def convert_string_to_race_id(race_string):\n",
    "    if not isinstance(race_string, str):\n",
    "        return None\n",
    "\n",
    "    char_to_race = {\n",
    "        \"W\": \"white\",\n",
    "        \"B\": \"black\",\n",
    "        \"N\": \"native_american\",\n",
    "        \"A\": \"asian\",\n",
    "        \"H\": \"hispanic\",\n",
    "        \"O\": \"other\"\n",
    "    }\n",
    "    \n",
    "    race = char_to_race[race_string]\n",
    "\n",
    "    return race_to_id[race]\n",
    "\n",
    "# Given date string, convert fo format adequate for SQLite\n",
    "def correct_date_format(date_string):\n",
    "    date_split = date_string.split(\"/\")\n",
    "    return f\"{date_split[2]}-{date_split[1]}-{date_split[0]}\""
   ]
  },
  {
   "cell_type": "code",
   "execution_count": 106,
   "metadata": {},
   "outputs": [
    {
     "data": {
      "text/plain": [
       "2535"
      ]
     },
     "execution_count": 106,
     "metadata": {},
     "output_type": "execute_result"
    }
   ],
   "source": [
    "# Convert city to city id (if exists)\n",
    "police_killings_df[\"city\"] = police_killings_df.apply(lambda x: convert_state_and_city_to_id(x[\"city\"], x[\"state\"]), axis=1)\n",
    "\n",
    "# Convert race to race id (if exists)\n",
    "police_killings_df[\"race\"] = police_killings_df[\"race\"].map(convert_string_to_race_id)\n",
    "\n",
    "# Convert race to race id (if exists)\n",
    "police_killings_df[\"date\"] = police_killings_df[\"date\"].apply(correct_date_format)\n",
    "\n",
    "# Drop state columns\n",
    "police_killings_df.drop(\"state\", inplace=True, axis=1)\n",
    "\n",
    "# Rename columns to match table colum names\n",
    "police_killings_df = police_killings_df.rename(columns={'city': 'city_id', \"state\": \"state_id\", \"race\": \"race_id\"})\n",
    "\n",
    "# Drop column id (id's will be autoincremental)\n",
    "police_killings_df.drop(\"id\", inplace=True, axis=1)\n",
    "\n",
    "police_killings_df.to_sql(\"police_killings\", conn, if_exists='append', index = False)"
   ]
  },
  {
   "cell_type": "markdown",
   "metadata": {},
   "source": [
    "### Close Connection"
   ]
  },
  {
   "cell_type": "code",
   "execution_count": 107,
   "metadata": {},
   "outputs": [],
   "source": [
    "conn.close()"
   ]
  }
 ],
 "metadata": {
  "kernelspec": {
   "display_name": "Python 3.10.6 64-bit",
   "language": "python",
   "name": "python3"
  },
  "language_info": {
   "codemirror_mode": {
    "name": "ipython",
    "version": 3
   },
   "file_extension": ".py",
   "mimetype": "text/x-python",
   "name": "python",
   "nbconvert_exporter": "python",
   "pygments_lexer": "ipython3",
   "version": "3.10.6"
  },
  "orig_nbformat": 4,
  "vscode": {
   "interpreter": {
    "hash": "916dbcbb3f70747c44a77c7bcd40155683ae19c65e1c03b4aa3499c5328201f1"
   }
  }
 },
 "nbformat": 4,
 "nbformat_minor": 2
}
