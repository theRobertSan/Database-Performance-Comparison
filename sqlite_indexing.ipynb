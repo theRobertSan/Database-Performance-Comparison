{
 "cells": [
  {
   "cell_type": "code",
   "execution_count": 1,
   "metadata": {},
   "outputs": [],
   "source": [
    "import sqlite3\n",
    "import pprint\n",
    "import time\n",
    "\n",
    "db = sqlite3.connect(\"sqlite3_group10.db\")\n",
    "cur = db.cursor()"
   ]
  },
  {
   "cell_type": "markdown",
   "metadata": {},
   "source": [
    "## Simple Queries"
   ]
  },
  {
   "cell_type": "markdown",
   "metadata": {},
   "source": [
    "### Simple Query 1 - Unarmed Males under 18 killed by Police"
   ]
  },
  {
   "cell_type": "code",
   "execution_count": 2,
   "metadata": {},
   "outputs": [
    {
     "name": "stdout",
     "output_type": "stream",
     "text": [
      "[('Jeremy Mardis', 6),\n",
      " ('Jordan Edwards', 15),\n",
      " ('Jose Raul Cruz', 16),\n",
      " ('Deven Guilford', 17),\n",
      " ('David Joseph', 17),\n",
      " ('Armando Garcia-Muro', 17)]\n"
     ]
    }
   ],
   "source": [
    "query = '''\n",
    "SELECT name, age \n",
    "FROM police_killings \n",
    "WHERE age < 18 \n",
    "AND gender = \"M\" \n",
    "AND armed = \"unarmed\" \n",
    "ORDER BY age;'''\n",
    "\n",
    "cur.execute(query)\n",
    "\n",
    "pprint.pprint(cur.fetchall())"
   ]
  },
  {
   "cell_type": "markdown",
   "metadata": {},
   "source": [
    "### Simple Query 2 - Women killed by Police while not fleeing and not armed in 2016"
   ]
  },
  {
   "cell_type": "code",
   "execution_count": 3,
   "metadata": {},
   "outputs": [
    {
     "name": "stdout",
     "output_type": "stream",
     "text": [
      "[]\n"
     ]
    }
   ],
   "source": [
    "query = '''\n",
    "SELECT name, age, date as this_date\n",
    "FROM police_killings\n",
    "WHERE gender = \"F\"\n",
    "AND flee = \"Not fleeing\"\n",
    "AND armed = \"unarmed\"\n",
    "AND date >= \"16-01-01\"\n",
    "AND date < \"17-01-01\"\n",
    "ORDER BY age;\n",
    "'''\n",
    "cur.execute(query)\n",
    "\n",
    "pprint.pprint(cur.fetchall())"
   ]
  },
  {
   "cell_type": "markdown",
   "metadata": {},
   "source": [
    "### Simple Query 3 - People with NULL values regarding age, race and armed"
   ]
  },
  {
   "cell_type": "code",
   "execution_count": 4,
   "metadata": {},
   "outputs": [
    {
     "name": "stdout",
     "output_type": "stream",
     "text": [
      "[('TK TK', 'M', '11/11/16')]\n"
     ]
    }
   ],
   "source": [
    "query = '''\n",
    "SELECT name, gender, date\n",
    "FROM police_killings\n",
    "WHERE age IS NULL\n",
    "AND race_id IS NULL\n",
    "AND armed IS NULL;\n",
    "'''\n",
    "\n",
    "cur.execute(query)\n",
    "\n",
    "pprint.pprint(cur.fetchall())"
   ]
  },
  {
   "cell_type": "markdown",
   "metadata": {},
   "source": [
    "## Complex Queries"
   ]
  },
  {
   "cell_type": "code",
   "execution_count": 31,
   "metadata": {},
   "outputs": [],
   "source": [
    "times_sqllite = {'complex1':0,\n",
    "                'complex2':0}\n",
    "\n",
    "times_sqllite_index = {'complex1':0,\n",
    "                      'complex2':0}\n",
    "\n",
    "iter_n = 100\n",
    "\n",
    "def record_time_f(query_n,query,with_index):\n",
    "    results = 0\n",
    "    if with_index is False:\n",
    "        for i in range(iter_n):\n",
    "            time_i = time.time()\n",
    "            cur.execute(query)\n",
    "            results = cur.fetchall()\n",
    "            time_f = time.time()\n",
    "            times_sqllite[query_n] = times_sqllite[query_n] + time_f - time_i\n",
    "        times_sqllite[query_n] = times_sqllite[query_n] / iter_n\n",
    "    else:\n",
    "        for i in range(iter_n):\n",
    "            time_i = time.time()\n",
    "            cur.execute(query)\n",
    "            results = cur.fetchall()\n",
    "            time_f = time.time()\n",
    "            times_sqllite_index[query_n] = times_sqllite_index[query_n] + time_f - time_i\n",
    "        times_sqllite_index[query_n] = times_sqllite_index[query_n] / iter_n\n",
    "    return results\n"
   ]
  },
  {
   "cell_type": "markdown",
   "metadata": {},
   "source": [
    "### Complex Query 1 - People armed with a knife shot by police in the state of Texas"
   ]
  },
  {
   "cell_type": "code",
   "execution_count": 32,
   "metadata": {},
   "outputs": [
    {
     "name": "stdout",
     "output_type": "stream",
     "text": [
      "[('Emmett Edward Hall', 60, 'TX'),\n",
      " ('Tyler Hunkin', 29, 'TX'),\n",
      " ('Morgan London Rankins', 30, 'TX'),\n",
      " ('Kamal Dajani', 26, 'TX'),\n",
      " ('Medger Blake', 41, 'TX'),\n",
      " ('Henry Reyna', 49, 'TX'),\n",
      " ('Daniel Brumley', 27, 'TX'),\n",
      " ('Rodney Henderson', 48, 'TX'),\n",
      " ('Richard McClendon', 43, 'TX'),\n",
      " ('Michael Clyde Lynch', 37, 'TX'),\n",
      " ('Jose Angel Vallarta', 30, 'TX'),\n",
      " ('Jose Antonio Espinoza Ruiz', 56, 'TX'),\n",
      " ('Kristiana Coignard', 17, 'TX'),\n",
      " ('Epthen Lamont Johnson', 40, 'TX'),\n",
      " ('Martin Gomez', 46, 'TX'),\n",
      " ('TK TK', None, 'TX'),\n",
      " ('Roger Albrecht', None, 'TX'),\n",
      " ('Ray Valdez', 55, 'TX'),\n",
      " ('Randall Lance Hughes', 48, 'TX'),\n",
      " ('Randall Waddel', 49, 'TX'),\n",
      " ('Gregory Mathis', 36, 'TX')]\n"
     ]
    }
   ],
   "source": [
    "query1 = '''\n",
    "SELECT p.name, p.age, s.acronym\n",
    "FROM police_killings p\n",
    "INNER JOIN city c\n",
    "ON c.id = p.city_id\n",
    "INNER JOIN state s\n",
    "ON c.state_id = s.id\n",
    "WHERE s.acronym = \"TX\"\n",
    "AND p.armed = \"knife\";\n",
    "'''\n",
    "\n",
    "results = record_time_f('complex1', query1, False)\n",
    "    \n",
    "pprint.pprint(results)"
   ]
  },
  {
   "cell_type": "markdown",
   "metadata": {},
   "source": [
    "### Complex Query 2 - State with the most shootings"
   ]
  },
  {
   "cell_type": "code",
   "execution_count": 33,
   "metadata": {},
   "outputs": [
    {
     "name": "stdout",
     "output_type": "stream",
     "text": [
      "[('CA', 390)]\n"
     ]
    }
   ],
   "source": [
    "query2 = '''\n",
    "SELECT state, MAX(mycount)\n",
    "FROM (SELECT s.acronym as state, COUNT(p.name) mycount\n",
    "    FROM police_killings p\n",
    "    INNER JOIN city c\n",
    "    ON c.id = p.city_id\n",
    "    INNER JOIN state s\n",
    "    ON s.id = c.state_id\n",
    "    GROUP BY s.acronym);\n",
    "'''\n",
    "\n",
    "results = record_time_f('complex2', query2, False)\n",
    "\n",
    "pprint.pprint(results)"
   ]
  },
  {
   "cell_type": "markdown",
   "metadata": {},
   "source": [
    "### Insert Query - Insert new police killing"
   ]
  },
  {
   "cell_type": "code",
   "execution_count": null,
   "metadata": {},
   "outputs": [],
   "source": [
    "john = [\n",
    "    (3000, \"John Cena\", \"21-05-12\", \"slap\", \"fidget spinner\", 100, \"M\", 1, 1, 1, \"attack\", \"spaceship\", 1)\n",
    "]\n",
    "\n",
    "query = '''INSERT INTO police_killings (id, name, date, manner_of_death, armed, age, gender, race_id, city_id, signs_of_mental_illness, threat_level, flee, body_camera) \n",
    "                VALUES(?, ?, ?, ?, ?, ?, ?, ?, ?, ?, ?, ? ,?);'''\n",
    "\n",
    "try:\n",
    "    cur.executemany(query, john)\n",
    "    db.commit()\n",
    "    print(\"Inserted successfully in police_killings\")\n",
    "except:\n",
    "    print(\"Error inserting in police_killings\")\n",
    "    db.rollback()"
   ]
  },
  {
   "cell_type": "markdown",
   "metadata": {},
   "source": [
    "### Update Query - Update the date of the police killing by the person's name"
   ]
  },
  {
   "cell_type": "code",
   "execution_count": null,
   "metadata": {},
   "outputs": [],
   "source": [
    "name = \"John Cena\"\n",
    "date = \"22-05-12\"\n",
    "\n",
    "query = \"UPDATE police_killings SET date=? WHERE name=?;\"\n",
    "\n",
    "try:\n",
    "    cur.execute(query, (date, name))\n",
    "    db.commit()\n",
    "    print(\"Successfully updated police_killings\")\n",
    "except:\n",
    "    print(\"Error updating police_killings\")\n",
    "    db.rollback()"
   ]
  },
  {
   "cell_type": "markdown",
   "metadata": {},
   "source": [
    "# Optimization and indexing"
   ]
  },
  {
   "cell_type": "code",
   "execution_count": 41,
   "metadata": {},
   "outputs": [
    {
     "data": {
      "text/plain": [
       "<sqlite3.Cursor at 0x7ff431baf2d0>"
      ]
     },
     "execution_count": 41,
     "metadata": {},
     "output_type": "execute_result"
    }
   ],
   "source": [
    "drop_index_0 = \"DROP INDEX IF EXISTS police_killings_index;\"\n",
    "cur.execute(drop_index_0)\n",
    "\n",
    "drop_index_1 = \"DROP INDEX IF EXISTS city_index;\"\n",
    "cur.execute(drop_index_1)\n",
    "\n",
    "drop_index_2 = \"DROP INDEX IF EXISTS state_index;\"\n",
    "cur.execute(drop_index_2)\n",
    "\n",
    "# drop_index_3 = \"DROP INDEX IF EXISTS police_killings_index;\"\n",
    "# cur.execute(drop_index_3)\n",
    "\n",
    "# drop_index_4 = \"DROP INDEX IF EXISTS state_acronym_index;\"\n",
    "# cur.execute(drop_index_4)"
   ]
  },
  {
   "cell_type": "code",
   "execution_count": 42,
   "metadata": {},
   "outputs": [
    {
     "data": {
      "text/plain": [
       "<sqlite3.Cursor at 0x7ff431baf2d0>"
      ]
     },
     "execution_count": 42,
     "metadata": {},
     "output_type": "execute_result"
    }
   ],
   "source": [
    "index_2 = \"CREATE INDEX IF NOT EXISTS police_killings_index ON police_killings(city_id, armed)\"\n",
    "cur.execute(index_2)"
   ]
  },
  {
   "cell_type": "code",
   "execution_count": 43,
   "metadata": {},
   "outputs": [
    {
     "data": {
      "text/plain": [
       "<sqlite3.Cursor at 0x7ff431baf2d0>"
      ]
     },
     "execution_count": 43,
     "metadata": {},
     "output_type": "execute_result"
    }
   ],
   "source": [
    "index_3 = \"CREATE INDEX IF NOT EXISTS city_index ON city(state_id)\"\n",
    "cur.execute(index_3)"
   ]
  },
  {
   "cell_type": "code",
   "execution_count": 44,
   "metadata": {},
   "outputs": [
    {
     "data": {
      "text/plain": [
       "<sqlite3.Cursor at 0x7ff431baf2d0>"
      ]
     },
     "execution_count": 44,
     "metadata": {},
     "output_type": "execute_result"
    }
   ],
   "source": [
    "index_4 = \"CREATE INDEX IF NOT EXISTS state_index ON state(acronym)\"\n",
    "cur.execute(index_4)"
   ]
  },
  {
   "cell_type": "code",
   "execution_count": 45,
   "metadata": {},
   "outputs": [
    {
     "name": "stdout",
     "output_type": "stream",
     "text": [
      "[('index', 'sqlite_autoindex_city_1', 'city', 5, None),\n",
      " ('index',\n",
      "  'cluster_index2',\n",
      "  'police_killings',\n",
      "  1143,\n",
      "  'CREATE INDEX cluster_index2 ON police_killings(city_id, armed)'),\n",
      " ('index',\n",
      "  'police_killings_armed_index2',\n",
      "  'city',\n",
      "  1155,\n",
      "  'CREATE INDEX police_killings_armed_index2 ON city(state_id)'),\n",
      " ('index',\n",
      "  'state_acronym_index',\n",
      "  'state',\n",
      "  1221,\n",
      "  'CREATE INDEX state_acronym_index ON state(acronym)'),\n",
      " ('index',\n",
      "  'police_killings_index',\n",
      "  'police_killings',\n",
      "  1222,\n",
      "  'CREATE INDEX police_killings_index ON police_killings(city_id, armed)'),\n",
      " ('index',\n",
      "  'city_index',\n",
      "  'city',\n",
      "  1233,\n",
      "  'CREATE INDEX city_index ON city(state_id)'),\n",
      " ('index',\n",
      "  'state_index',\n",
      "  'state',\n",
      "  1298,\n",
      "  'CREATE INDEX state_index ON state(acronym)')]\n"
     ]
    }
   ],
   "source": [
    "# print indexes that were created\n",
    "created_indexes = '''\n",
    "SELECT * FROM sqlite_master WHERE type = 'index';\n",
    "'''\n",
    "cur.execute(created_indexes)\n",
    "records_query1 = cur.fetchall()\n",
    "pprint.pprint(records_query1)"
   ]
  },
  {
   "cell_type": "code",
   "execution_count": 46,
   "metadata": {},
   "outputs": [
    {
     "name": "stdout",
     "output_type": "stream",
     "text": [
      "[('Emmett Edward Hall', 60),\n",
      " ('Tyler Hunkin', 29),\n",
      " ('Morgan London Rankins', 30),\n",
      " ('Kamal Dajani', 26),\n",
      " ('Medger Blake', 41),\n",
      " ('Henry Reyna', 49),\n",
      " ('Daniel Brumley', 27),\n",
      " ('Rodney Henderson', 48),\n",
      " ('Richard McClendon', 43),\n",
      " ('Michael Clyde Lynch', 37),\n",
      " ('Jose Angel Vallarta', 30),\n",
      " ('Jose Antonio Espinoza Ruiz', 56),\n",
      " ('Kristiana Coignard', 17),\n",
      " ('Epthen Lamont Johnson', 40),\n",
      " ('Martin Gomez', 46),\n",
      " ('TK TK', None),\n",
      " ('Roger Albrecht', None),\n",
      " ('Ray Valdez', 55),\n",
      " ('Randall Lance Hughes', 48),\n",
      " ('Randall Waddel', 49),\n",
      " ('Gregory Mathis', 36)]\n"
     ]
    }
   ],
   "source": [
    "####### Performance testing for query 1 #############\n",
    "optimized_query1 = '''\n",
    "SELECT p.name, p.age\n",
    "FROM police_killings p\n",
    "INNER JOIN city c\n",
    "ON c.id = p.city_id\n",
    "INNER JOIN state s\n",
    "ON c.state_id = s.id\n",
    "WHERE s.acronym = \"TX\"\n",
    "AND p.armed = \"knife\";\n",
    "'''\n",
    "\n",
    "#People armed with a knife shot by police in the state of Texas\n",
    "\n",
    "results = record_time_f('complex1', optimized_query1, True)\n",
    "\n",
    "pprint.pprint(results)"
   ]
  },
  {
   "cell_type": "code",
   "execution_count": 47,
   "metadata": {},
   "outputs": [
    {
     "name": "stdout",
     "output_type": "stream",
     "text": [
      "[('CA', 390)]\n"
     ]
    }
   ],
   "source": [
    "####### Performance testing for query 2 #############\n",
    "optimized_query2 = '''\n",
    "SELECT state, MAX(mycount)\n",
    "FROM (SELECT s.acronym as state, COUNT(p.name) mycount\n",
    "    FROM police_killings p\n",
    "    INNER JOIN city c\n",
    "    ON c.id = p.city_id\n",
    "    INNER JOIN state s\n",
    "    ON s.id = c.state_id\n",
    "    GROUP BY s.acronym);\n",
    "'''\n",
    "\n",
    "#State with the most shootings\n",
    "\n",
    "results = record_time_f('complex2', optimized_query2, True)\n",
    "\n",
    "pprint.pprint(results)"
   ]
  },
  {
   "cell_type": "code",
   "execution_count": 48,
   "metadata": {},
   "outputs": [
    {
     "name": "stdout",
     "output_type": "stream",
     "text": [
      "Times for complex queries without indexes and optimization:\n",
      "complex1 - 0.000815\n",
      "complex2 - 0.002907\n",
      "\n",
      "Times for complex queries with indexes and optimization:\n",
      "complex1 - 0.000762\n",
      "complex2 - 0.002889\n"
     ]
    }
   ],
   "source": [
    "print('Times for complex queries without indexes and optimization:')\n",
    "for t in times_sqllite:\n",
    "     print(f'{t} - {times_sqllite[t]:7.6f}')\n",
    "\n",
    "print('\\nTimes for complex queries with indexes and optimization:')\n",
    "for t in times_sqllite_index:\n",
    "     print(f'{t} - {times_sqllite_index[t]:7.6f}')"
   ]
  },
  {
   "cell_type": "code",
   "execution_count": null,
   "metadata": {},
   "outputs": [],
   "source": [
    "db.close()"
   ]
  }
 ],
 "metadata": {
  "kernelspec": {
   "display_name": "Python 3 (ipykernel)",
   "language": "python",
   "name": "python3"
  },
  "language_info": {
   "codemirror_mode": {
    "name": "ipython",
    "version": 3
   },
   "file_extension": ".py",
   "mimetype": "text/x-python",
   "name": "python",
   "nbconvert_exporter": "python",
   "pygments_lexer": "ipython3",
   "version": "3.9.12"
  },
  "vscode": {
   "interpreter": {
    "hash": "916dbcbb3f70747c44a77c7bcd40155683ae19c65e1c03b4aa3499c5328201f1"
   }
  }
 },
 "nbformat": 4,
 "nbformat_minor": 2
}
