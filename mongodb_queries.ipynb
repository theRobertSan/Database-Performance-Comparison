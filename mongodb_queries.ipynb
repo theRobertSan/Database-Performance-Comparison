{
 "cells": [
  {
   "cell_type": "markdown",
   "metadata": {},
   "source": [
    "### Imports"
   ]
  },
  {
   "cell_type": "code",
   "execution_count": 64,
   "metadata": {},
   "outputs": [],
   "source": [
    "import pandas as pd\n",
    "from pymongo import MongoClient\n",
    "from bson.objectid import ObjectId\n",
    "import datetime\n",
    "from time import time\n",
    "import pprint\n",
    "import pymongo\n",
    "import matplotlib.pyplot as plt\n",
    "import numpy as np"
   ]
  },
  {
   "cell_type": "markdown",
   "metadata": {},
   "source": [
    "### Connect to the DB"
   ]
  },
  {
   "cell_type": "code",
   "execution_count": 65,
   "metadata": {},
   "outputs": [],
   "source": [
    "# connection to the database\n",
    "client = MongoClient()\n",
    "\n",
    "db_name = \"PoliceShootings\"\n",
    "\n",
    "db = client[db_name]\n",
    "\n",
    "# Get PoliceKillings collection\n",
    "killings_col = db.PoliceKillings"
   ]
  },
  {
   "cell_type": "markdown",
   "metadata": {},
   "source": [
    "## Simple Queries"
   ]
  },
  {
   "cell_type": "markdown",
   "metadata": {},
   "source": [
    "#### Simple Query 1 - Unarmed Males under 18 killed by Police"
   ]
  },
  {
   "cell_type": "code",
   "execution_count": 66,
   "metadata": {},
   "outputs": [
    {
     "name": "stdout",
     "output_type": "stream",
     "text": [
      "(Jeremy Mardis, 6)\n",
      "(Jordan Edwards, 15)\n",
      "(Jose Raul Cruz, 16)\n",
      "(Armando Garcia-Muro, 17)\n",
      "(David Joseph, 17)\n",
      "(Deven Guilford, 17)\n"
     ]
    }
   ],
   "source": [
    "simple_query_1 = { \n",
    "    'age': { '$lt': 18 }, \n",
    "    'gender': 'M', \n",
    "    'armed': 'unarmed' \n",
    "}\n",
    "my_result = killings_col.find(simple_query_1)\n",
    "for x in my_result:\n",
    "    print(f\"({x['name']}, {int(x['age'])})\")"
   ]
  },
  {
   "cell_type": "markdown",
   "metadata": {},
   "source": [
    "#### Simple Query 2 - Women killed by Police while not fleeing and not armed"
   ]
  },
  {
   "cell_type": "code",
   "execution_count": 67,
   "metadata": {},
   "outputs": [
    {
     "name": "stdout",
     "output_type": "stream",
     "text": [
      "(Ciara Meyer, 12)\n",
      "(Alteria Woods, 21)\n",
      "(India Kager, 28)\n",
      "(Autumn Steele, 34)\n",
      "(Justine Damond, 40)\n"
     ]
    }
   ],
   "source": [
    "simple_query_2 = {\n",
    "    'flee': 'Not fleeing',\n",
    "    'gender': 'F',\n",
    "    'armed': 'unarmed'\n",
    "}\n",
    "my_result = killings_col.find(simple_query_2)\n",
    "for x in my_result:\n",
    "    print(f\"({x['name']}, {int(x['age'])})\")"
   ]
  },
  {
   "cell_type": "markdown",
   "metadata": {},
   "source": [
    "## Complex queries\n"
   ]
  },
  {
   "cell_type": "markdown",
   "metadata": {},
   "source": [
    "#### Complex Query 1 - People above 20 armed with a knife shot and Tasered by police in the state of Texas"
   ]
  },
  {
   "cell_type": "code",
   "execution_count": 68,
   "metadata": {},
   "outputs": [
    {
     "name": "stdout",
     "output_type": "stream",
     "text": [
      "(Gregory Mathis, 36.0, TX, knife)\n",
      "(Randall Lance Hughes, 48.0, TX, knife)\n",
      "(Rodney Henderson, 48.0, TX, knife)\n",
      "(Henry Reyna, 49.0, TX, knife)\n",
      "(Ray Valdez, 55.0, TX, knife)\n"
     ]
    }
   ],
   "source": [
    "complex_query_1 = [\n",
    "    { \"$match\": \n",
    "        { \"$and\": \n",
    "            [\n",
    "                {\"armed\": \"knife\"},\n",
    "                {\"manner_of_death\": \"shot and Tasered\"},\n",
    "                {\"age\": {\"$gt\": 20}}\n",
    "            ]\n",
    "        }\n",
    "    },\n",
    "    {\n",
    "        \"$lookup\":\n",
    "        {\n",
    "            \"from\": \"City\",       \n",
    "            \"localField\": \"city_id\",  \n",
    "            \"foreignField\": \"_id\", \n",
    "            \"as\": \"c\"\n",
    "        },\n",
    "    },\n",
    "    {  \n",
    "        \"$unwind\": \n",
    "        { \"path\": '$c'} \n",
    "    },\n",
    "    {\n",
    "        \"$lookup\":\n",
    "        {\n",
    "            \"from\": \"State\",      \n",
    "            \"localField\": \"c.state_id\",   \n",
    "            \"foreignField\": \"_id\",\n",
    "            \"as\": \"s\"  \n",
    "        }\n",
    "    },\n",
    "    {  \n",
    "        \"$unwind\": \n",
    "        { \"path\": '$s'} \n",
    "    },\n",
    "    { '$match': {'s.acronym': 'TX' } },\n",
    "]\n",
    "\n",
    "response = killings_col.aggregate(complex_query_1)\n",
    "\n",
    "for x in response:\n",
    "    print(f\"({x['name']}, {x['age']}, {x['s']['acronym']}, {x['armed']})\")   "
   ]
  },
  {
   "cell_type": "code",
   "execution_count": 69,
   "metadata": {},
   "outputs": [
    {
     "name": "stdout",
     "output_type": "stream",
     "text": [
      "(Henry Reyna, 49.0, TX, knife)\n",
      "(Rodney Henderson, 48.0, TX, knife)\n",
      "(Ray Valdez, 55.0, TX, knife)\n",
      "(Randall Lance Hughes, 48.0, TX, knife)\n",
      "(Gregory Mathis, 36.0, TX, knife)\n"
     ]
    }
   ],
   "source": [
    "state_col = db[\"State\"]\n",
    "\n",
    "improve_complex_query_1 = [\n",
    "    { '$match': {'acronym': 'TX' } },\n",
    "    {\n",
    "        \"$lookup\":\n",
    "        {\n",
    "            \"from\": \"City\",       \n",
    "            \"localField\": \"_id\",  \n",
    "            \"foreignField\": \"state_id\", \n",
    "            \"as\": \"c\"\n",
    "        },\n",
    "    },\n",
    "    {  \n",
    "        \"$unwind\": \n",
    "        { \"path\": '$c'} \n",
    "    },\n",
    "    {\n",
    "        \"$lookup\":\n",
    "        {\n",
    "            \"from\": \"PoliceKillings\",      \n",
    "            \"localField\": \"c._id\",   \n",
    "            \"foreignField\": \"city_id\",\n",
    "            \"as\": \"p\"  \n",
    "        }\n",
    "    },\n",
    "    {  \n",
    "        \"$unwind\": \n",
    "        { \"path\": '$p'} \n",
    "    },\n",
    "    { \"$match\": \n",
    "        { \"$and\": \n",
    "            [\n",
    "                {\"p.armed\": \"knife\"},\n",
    "                {\"p.manner_of_death\": \"shot and Tasered\"},\n",
    "                {\"p.age\": {\"$gt\": 20}}\n",
    "            ]\n",
    "        }\n",
    "    },\n",
    "]\n",
    "\n",
    "response = state_col.aggregate(improve_complex_query_1)\n",
    "\n",
    "for x in response:\n",
    "        print(f\"({x['p']['name']}, {x['p']['age']}, {x['acronym']}, {x['p']['armed']})\")   "
   ]
  },
  {
   "cell_type": "markdown",
   "metadata": {},
   "source": [
    "### Complex Query 2 - State with the most shootings against males under the age of 18"
   ]
  },
  {
   "cell_type": "code",
   "execution_count": 70,
   "metadata": {},
   "outputs": [
    {
     "name": "stdout",
     "output_type": "stream",
     "text": [
      "{'_id': 'CA', 'shootings': 11}\n"
     ]
    }
   ],
   "source": [
    "complex_query_2 = [\n",
    "  { \"$match\": \n",
    "        { \"$and\": \n",
    "            [\n",
    "                {\"gender\": \"M\"},\n",
    "                {\"age\": {\"$lt\": 18}}\n",
    "            ]\n",
    "        }\n",
    "    },\n",
    "  {\n",
    "      \"$lookup\":\n",
    "      {\n",
    "          \"from\": \"City\",       \n",
    "          \"localField\": \"city_id\",  \n",
    "          \"foreignField\": \"_id\", \n",
    "          \"as\": \"c\"\n",
    "      },\n",
    "  },\n",
    "  {  \n",
    "      \"$unwind\": \n",
    "      { \"path\": '$c'} \n",
    "  },\n",
    "  {\n",
    "      \"$lookup\":\n",
    "      {\n",
    "          \"from\": \"State\",      \n",
    "          \"localField\": \"c.state_id\",   \n",
    "          \"foreignField\": \"_id\",\n",
    "          \"as\": \"s\"  \n",
    "      }\n",
    "  },\n",
    "  {  \n",
    "      \"$unwind\": \n",
    "      { \"path\": '$s'} \n",
    "  },\n",
    "  { \"$group\": { \"_id\": \"$s.acronym\", \"shootings\": { \"$sum\": 1 } } },\n",
    "  { \"$sort\": { \"shootings\": -1 } },\n",
    "  { \"$limit\": 1}\n",
    "]\n",
    "\n",
    "response = killings_col.aggregate(complex_query_2)\n",
    "\n",
    "for x in response:\n",
    "    print(x) "
   ]
  },
  {
   "cell_type": "markdown",
   "metadata": {},
   "source": [
    "### Insert Quert - Insert new police killing"
   ]
  },
  {
   "cell_type": "code",
   "execution_count": 71,
   "metadata": {},
   "outputs": [],
   "source": [
    "mydict = {\n",
    "    \"name\": \"John Smith\", \n",
    "    \"date\": datetime.datetime(2020, 2, 25), \n",
    "    \"manner_of_death\": \"shot\", \n",
    "    \"armed\": \"toy weapon\", \n",
    "    \"age\": 34,\n",
    "    \"gender\": \"M\", \n",
    "    \"race_id\": ObjectId(\"63726502634ca21d0f760540\"), \n",
    "    \"city_id\": ObjectId(\"637264fd634ca21d0f75927c\"), \n",
    "    \"signs_of_mental_illness\": True, \n",
    "    \"threat_level\": \"attack\", \n",
    "    \"flee\": None, \n",
    "    \"body_camera\": True \n",
    "}\n",
    "\n",
    "insertion_result = killings_col.insert_one(mydict)"
   ]
  },
  {
   "cell_type": "markdown",
   "metadata": {},
   "source": [
    "### Update Query - Update the date of the police killing"
   ]
  },
  {
   "cell_type": "code",
   "execution_count": 72,
   "metadata": {},
   "outputs": [
    {
     "data": {
      "text/plain": [
       "<pymongo.results.UpdateResult at 0x7fc3289d7c10>"
      ]
     },
     "execution_count": 72,
     "metadata": {},
     "output_type": "execute_result"
    }
   ],
   "source": [
    "new_date = datetime.datetime(2022, 2, 25)\n",
    "\n",
    "killings_col.update_one(\n",
    "    {\"_id\": insertion_result.inserted_id},\n",
    "    {\"$set\": {\"date\": new_date}}\n",
    ")"
   ]
  },
  {
   "cell_type": "markdown",
   "metadata": {},
   "source": [
    "## Index"
   ]
  },
  {
   "cell_type": "code",
   "execution_count": 73,
   "metadata": {},
   "outputs": [],
   "source": [
    "# Number of iterations used in performance\n",
    "iterations = 100\n",
    "\n",
    "# Get average performance\n",
    "def performance(collection, query, is_aggregate):\n",
    "    result = 0\n",
    "    for _ in range(iterations):\n",
    "        time_i = time()\n",
    "        if is_aggregate:\n",
    "            collection.aggregate(query)\n",
    "        else:\n",
    "            collection.find(query)\n",
    "        time_f = time()\n",
    "        result += time_f-time_i\n",
    "    return result / iterations\n",
    "\n",
    "# Get performance for all queries\n",
    "def performance_list():\n",
    "    return {\n",
    "        \"simple_query_1\" : performance(killings_col, simple_query_1, False),\n",
    "        \"simple_query_2\" : performance(killings_col, simple_query_2, False),\n",
    "        \"complex_query_1\" : performance(killings_col, complex_query_1, True),\n",
    "        \"complex_query_2\" : performance(killings_col, complex_query_2, True)\n",
    "    }"
   ]
  },
  {
   "cell_type": "code",
   "execution_count": 74,
   "metadata": {},
   "outputs": [],
   "source": [
    "# Get examined doc num for all queries\n",
    "def examined_list():\n",
    "    return {\n",
    "        \"simple_query_1\": killings_col.find(simple_query_1).explain()[\"executionStats\"][\"totalDocsExamined\"],\n",
    "        \"simple_query_2\": killings_col.find(simple_query_2).explain()[\"executionStats\"][\"totalDocsExamined\"],\n",
    "    }"
   ]
  },
  {
   "cell_type": "markdown",
   "metadata": {},
   "source": [
    "### Performance without indexes"
   ]
  },
  {
   "cell_type": "code",
   "execution_count": 75,
   "metadata": {},
   "outputs": [],
   "source": [
    "city_col = db[\"City\"]\n",
    "state_col = db[\"State\"]\n",
    "\n",
    "# Drop pre-existing indexes\n",
    "killings_col.drop_indexes()\n",
    "city_col.drop_indexes()"
   ]
  },
  {
   "cell_type": "code",
   "execution_count": 76,
   "metadata": {},
   "outputs": [],
   "source": [
    "# Simple query 1 - 2540 docs examined\n",
    "# Simple query 2 - 2540 docs examined\n",
    "\n",
    "performance_no_index = performance_list()"
   ]
  },
  {
   "cell_type": "code",
   "execution_count": 77,
   "metadata": {},
   "outputs": [],
   "source": [
    "examined_no_index = examined_list()"
   ]
  },
  {
   "cell_type": "markdown",
   "metadata": {},
   "source": [
    "### Add indexes"
   ]
  },
  {
   "cell_type": "code",
   "execution_count": 78,
   "metadata": {},
   "outputs": [
    {
     "data": {
      "text/plain": [
       "'state_index'"
      ]
     },
     "execution_count": 78,
     "metadata": {},
     "output_type": "execute_result"
    }
   ],
   "source": [
    "# For simple_query 1 and 2, and complex query 2\n",
    "killings_col.create_index(\n",
    "    [\n",
    "        (\"armed\", pymongo.ASCENDING),\n",
    "        (\"gender\", pymongo.ASCENDING),\n",
    "        (\"age\", pymongo.ASCENDING),\n",
    "        (\"flee\", pymongo.ASCENDING),\n",
    "        (\"manner_of_death\", pymongo.ASCENDING),\n",
    "        (\"name\", pymongo.ASCENDING),\n",
    "    ],\n",
    "    name=\"police_killings_index\"\n",
    ")\n",
    "\n",
    "# For complex_query 1\n",
    "killings_col.create_index(\n",
    "    [\n",
    "        (\"gender\", pymongo.ASCENDING),\n",
    "        (\"age\", pymongo.ASCENDING),\n",
    "        (\"city_id\", pymongo.ASCENDING),\n",
    "    ],\n",
    "    name=\"police_killings_index2\"\n",
    ")\n",
    "\n",
    "# For complex_query 1\n",
    "# city_col.create_index(\n",
    "#     [\n",
    "#         (\"state_id\", pymongo.ASCENDING),\n",
    "#     ],\n",
    "#     name=\"city_index\"\n",
    "# )\n",
    "\n",
    "# # For complex_query 1\n",
    "# killings_col.create_index(\n",
    "#     [\n",
    "#         (\"gender\", pymongo.ASCENDING),\n",
    "#         (\"age\", pymongo.ASCENDING),\n",
    "#     ],\n",
    "#     name=\"complex_query_2_index\"\n",
    "# )\n",
    "\n",
    "state_col.create_index(\n",
    "    [\n",
    "        (\"acronym\", pymongo.ASCENDING)\n",
    "    ],\n",
    "    unique=True,\n",
    "    name=\"state_index\"\n",
    ")"
   ]
  },
  {
   "cell_type": "markdown",
   "metadata": {},
   "source": [
    "### Performance with indexes"
   ]
  },
  {
   "cell_type": "code",
   "execution_count": 79,
   "metadata": {},
   "outputs": [],
   "source": [
    "# Simple query 1 - 6 docs examined\n",
    "# Simple query 2 - 5 docs examined\n",
    "\n",
    "performance_index = performance_list()"
   ]
  },
  {
   "cell_type": "code",
   "execution_count": 80,
   "metadata": {},
   "outputs": [],
   "source": [
    "examined_index = examined_list()"
   ]
  },
  {
   "cell_type": "markdown",
   "metadata": {},
   "source": [
    "### Performance of queries with and without indexes"
   ]
  },
  {
   "cell_type": "code",
   "execution_count": 81,
   "metadata": {},
   "outputs": [
    {
     "name": "stdout",
     "output_type": "stream",
     "text": [
      "Times without indexes:\n",
      "{'complex_query_1': 0.05539246320724487,\n",
      " 'complex_query_2': 0.05349574327468872,\n",
      " 'simple_query_1': 1.4901161193847656e-05,\n",
      " 'simple_query_2': 1.3940334320068359e-05}\n",
      "\n",
      "Times with indexes:\n",
      "{'complex_query_1': 0.05245369911193848,\n",
      " 'complex_query_2': 0.04802543878555298,\n",
      " 'simple_query_1': 7.3504447937011715e-06,\n",
      " 'simple_query_2': 7.107257843017578e-06}\n",
      "\n",
      "Examined documents with indexes:\n",
      "{'simple_query_1': 2539, 'simple_query_2': 2539}\n",
      "\n",
      "Examined documents without indexes:\n",
      "{'simple_query_1': 6, 'simple_query_2': 5}\n"
     ]
    }
   ],
   "source": [
    "print('Times without indexes:')\n",
    "pprint.pprint(performance_no_index)\n",
    "\n",
    "print('\\nTimes with indexes:')\n",
    "pprint.pprint(performance_index)\n",
    "\n",
    "print('\\nExamined documents with indexes:')\n",
    "pprint.pprint(examined_no_index)\n",
    "\n",
    "print('\\nExamined documents without indexes:')\n",
    "pprint.pprint(examined_index)"
   ]
  },
  {
   "cell_type": "markdown",
   "metadata": {},
   "source": [
    "### Generate Plot"
   ]
  },
  {
   "cell_type": "markdown",
   "metadata": {},
   "source": [
    "#### Simple Queries"
   ]
  },
  {
   "cell_type": "code",
   "execution_count": 82,
   "metadata": {},
   "outputs": [
    {
     "data": {
      "image/png": "[encoded data removed]",
      "text/plain": [
       "<Figure size 640x480 with 1 Axes>"
      ]
     },
     "metadata": {},
     "output_type": "display_data"
    }
   ],
   "source": [
    "X_axis = np.arange(2)\n",
    "\n",
    "plt.bar(X_axis - 0.1, list(examined_no_index.values())[0:2], 0.2, label=\"No Indexes and Optimizations\")\n",
    "plt.bar(X_axis + 0.1, list(examined_index.values())[0:2], 0.2, label=\"With Indexes and Optimizations\")\n",
    "plt.xticks(X_axis, list(examined_no_index.keys())[0:2])\n",
    "plt.legend()\n",
    "plt.xlabel(\"Simple Query Type\")\n",
    "plt.ylabel(\"Documents Examined\")\n",
    "plt.show()"
   ]
  },
  {
   "cell_type": "markdown",
   "metadata": {},
   "source": [
    "#### Complex Queries"
   ]
  },
  {
   "cell_type": "code",
   "execution_count": 83,
   "metadata": {},
   "outputs": [
    {
     "data": {
      "image/png": "[encoded data removed]",
      "text/plain": [
       "<Figure size 640x480 with 1 Axes>"
      ]
     },
     "metadata": {},
     "output_type": "display_data"
    }
   ],
   "source": [
    "X_axis = np.arange(2)\n",
    "\n",
    "plt.bar(X_axis - 0.1, list(performance_no_index.values())[2:4], 0.2, label=\"No Indexes and Optimizations\")\n",
    "plt.bar(X_axis + 0.1, list(performance_index.values())[2:4], 0.2, label=\"With Indexes and Optimizations\")\n",
    "plt.xticks(X_axis, list(performance_no_index.keys())[2:4])\n",
    "plt.legend(loc=\"upper left\")\n",
    "plt.xlabel(\"Complex Querie Type\")\n",
    "plt.ylabel(\"Execution Time (s)\")\n",
    "plt.show()"
   ]
  },
  {
   "cell_type": "markdown",
   "metadata": {},
   "source": [
    "### Close Connection"
   ]
  },
  {
   "cell_type": "code",
   "execution_count": 84,
   "metadata": {},
   "outputs": [],
   "source": [
    "client.close()"
   ]
  }
 ],
 "metadata": {
  "kernelspec": {
   "display_name": "Python 3.10.6 64-bit",
   "language": "python",
   "name": "python3"
  },
  "language_info": {
   "codemirror_mode": {
    "name": "ipython",
    "version": 3
   },
   "file_extension": ".py",
   "mimetype": "text/x-python",
   "name": "python",
   "nbconvert_exporter": "python",
   "pygments_lexer": "ipython3",
   "version": "3.10.6"
  },
  "orig_nbformat": 4,
  "vscode": {
   "interpreter": {
    "hash": "916dbcbb3f70747c44a77c7bcd40155683ae19c65e1c03b4aa3499c5328201f1"
   }
  }
 },
 "nbformat": 4,
 "nbformat_minor": 2
}
