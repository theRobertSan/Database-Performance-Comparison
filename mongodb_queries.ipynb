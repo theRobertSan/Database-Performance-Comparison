{
 "cells": [
  {
   "cell_type": "markdown",
   "metadata": {},
   "source": [
    "### Imports"
   ]
  },
  {
   "cell_type": "code",
   "execution_count": 25,
   "metadata": {},
   "outputs": [],
   "source": [
    "import pandas as pd\n",
    "from pymongo import MongoClient\n",
    "from bson.objectid import ObjectId\n",
    "import datetime\n",
    "from time import time\n",
    "import pprint\n",
    "import pymongo\n",
    "import matplotlib.pyplot as plt\n",
    "import numpy as np"
   ]
  },
  {
   "cell_type": "markdown",
   "metadata": {},
   "source": [
    "### Connect to the DB"
   ]
  },
  {
   "cell_type": "code",
   "execution_count": 26,
   "metadata": {},
   "outputs": [],
   "source": [
    "# connection to the database\n",
    "client = MongoClient()\n",
    "\n",
    "db_name = \"PoliceShootings\"\n",
    "\n",
    "db = client[db_name]\n",
    "\n",
    "# Get PoliceKillings collection\n",
    "killings_col = db.PoliceKillings"
   ]
  },
  {
   "cell_type": "markdown",
   "metadata": {},
   "source": [
    "## Simple Queries"
   ]
  },
  {
   "cell_type": "markdown",
   "metadata": {},
   "source": [
    "#### Simple Query 1 - Unarmed Males under 18 killed by Police"
   ]
  },
  {
   "cell_type": "code",
   "execution_count": 27,
   "metadata": {},
   "outputs": [
    {
     "name": "stdout",
     "output_type": "stream",
     "text": [
      "(Jeremy Mardis, 6)\n",
      "(Jordan Edwards, 15)\n",
      "(Jose Raul Cruz, 16)\n",
      "(Deven Guilford, 17)\n",
      "(David Joseph, 17)\n",
      "(Armando Garcia-Muro, 17)\n"
     ]
    }
   ],
   "source": [
    "simple_query_1 = { \n",
    "    'age': { '$lt': 18 }, \n",
    "    'gender': 'M', \n",
    "    'armed': 'unarmed' \n",
    "}\n",
    "my_result = killings_col.find(simple_query_1)\n",
    "for x in my_result:\n",
    "    print(f\"({x['name']}, {int(x['age'])})\")"
   ]
  },
  {
   "cell_type": "markdown",
   "metadata": {},
   "source": [
    "#### Simple Query 2 - Women killed by Police while not fleeing and not armed"
   ]
  },
  {
   "cell_type": "code",
   "execution_count": 28,
   "metadata": {},
   "outputs": [
    {
     "name": "stdout",
     "output_type": "stream",
     "text": [
      "(Autumn Steele, 34)\n",
      "(India Kager, 28)\n",
      "(Ciara Meyer, 12)\n",
      "(Alteria Woods, 21)\n",
      "(Justine Damond, 40)\n"
     ]
    }
   ],
   "source": [
    "simple_query_2 = {\n",
    "    'flee': 'Not fleeing',\n",
    "    'gender': 'F',\n",
    "    'armed': 'unarmed'\n",
    "}\n",
    "my_result = killings_col.find(simple_query_2)\n",
    "for x in my_result:\n",
    "    print(f\"({x['name']}, {int(x['age'])})\")"
   ]
  },
  {
   "cell_type": "markdown",
   "metadata": {},
   "source": [
    "## Complex queries\n"
   ]
  },
  {
   "cell_type": "markdown",
   "metadata": {},
   "source": [
    "#### Complex Query 1 - People above 20 armed with a knife shot and Tasered by police in the state of Texas"
   ]
  },
  {
   "cell_type": "code",
   "execution_count": 29,
   "metadata": {},
   "outputs": [
    {
     "name": "stdout",
     "output_type": "stream",
     "text": [
      "(Gregory Mathis, 36.0, TX, knife)\n",
      "(Randall Lance Hughes, 48.0, TX, knife)\n",
      "(Rodney Henderson, 48.0, TX, knife)\n",
      "(Henry Reyna, 49.0, TX, knife)\n",
      "(Ray Valdez, 55.0, TX, knife)\n"
     ]
    }
   ],
   "source": [
    "complex_query_1 = [\n",
    "    { \"$match\": \n",
    "        { \"$and\": \n",
    "            [\n",
    "                {\"armed\": \"knife\"},\n",
    "                {\"manner_of_death\": \"shot and Tasered\"},\n",
    "                {\"age\": {\"$gt\": 20}}\n",
    "            ]\n",
    "        }\n",
    "    },\n",
    "    {\n",
    "        \"$lookup\":\n",
    "        {\n",
    "            \"from\": \"City\",       \n",
    "            \"localField\": \"city_id\",  \n",
    "            \"foreignField\": \"_id\", \n",
    "            \"as\": \"c\"\n",
    "        },\n",
    "    },\n",
    "    {  \n",
    "        \"$unwind\": \n",
    "        { \"path\": '$c'} \n",
    "    },\n",
    "    {\n",
    "        \"$lookup\":\n",
    "        {\n",
    "            \"from\": \"State\",      \n",
    "            \"localField\": \"c.state_id\",   \n",
    "            \"foreignField\": \"_id\",\n",
    "            \"as\": \"s\"  \n",
    "        }\n",
    "    },\n",
    "    {  \n",
    "        \"$unwind\": \n",
    "        { \"path\": '$s'} \n",
    "    },\n",
    "    { '$match': {'s.acronym': 'TX' } },\n",
    "]\n",
    "\n",
    "response = killings_col.aggregate(complex_query_1)\n",
    "\n",
    "for x in response:\n",
    "    print(f\"({x['name']}, {x['age']}, {x['s']['acronym']}, {x['armed']})\")   "
   ]
  },
  {
   "cell_type": "code",
   "execution_count": 30,
   "metadata": {},
   "outputs": [
    {
     "name": "stdout",
     "output_type": "stream",
     "text": [
      "(Henry Reyna, 49.0, TX, knife)\n",
      "(Rodney Henderson, 48.0, TX, knife)\n",
      "(Ray Valdez, 55.0, TX, knife)\n",
      "(Randall Lance Hughes, 48.0, TX, knife)\n",
      "(Gregory Mathis, 36.0, TX, knife)\n"
     ]
    }
   ],
   "source": [
    "state_col = db[\"State\"]\n",
    "\n",
    "improve_complex_query_1 = [\n",
    "    { '$match': {'acronym': 'TX' } },\n",
    "    {\n",
    "        \"$lookup\":\n",
    "        {\n",
    "            \"from\": \"City\",       \n",
    "            \"localField\": \"_id\",  \n",
    "            \"foreignField\": \"state_id\", \n",
    "            \"as\": \"c\"\n",
    "        },\n",
    "    },\n",
    "    {  \n",
    "        \"$unwind\": \n",
    "        { \"path\": '$c'} \n",
    "    },\n",
    "    {\n",
    "        \"$lookup\":\n",
    "        {\n",
    "            \"from\": \"PoliceKillings\",      \n",
    "            \"localField\": \"c._id\",   \n",
    "            \"foreignField\": \"city_id\",\n",
    "            \"as\": \"p\"  \n",
    "        }\n",
    "    },\n",
    "    {  \n",
    "        \"$unwind\": \n",
    "        { \"path\": '$p'} \n",
    "    },\n",
    "    { \"$match\": \n",
    "        { \"$and\": \n",
    "            [\n",
    "                {\"p.armed\": \"knife\"},\n",
    "                {\"p.manner_of_death\": \"shot and Tasered\"},\n",
    "                {\"p.age\": {\"$gt\": 20}}\n",
    "            ]\n",
    "        }\n",
    "    },\n",
    "]\n",
    "\n",
    "response = state_col.aggregate(improve_complex_query_1)\n",
    "\n",
    "for x in response:\n",
    "        print(f\"({x['p']['name']}, {x['p']['age']}, {x['acronym']}, {x['p']['armed']})\")   "
   ]
  },
  {
   "cell_type": "markdown",
   "metadata": {},
   "source": [
    "### Complex Query 2 - State with the most shootings against males under the age of 18"
   ]
  },
  {
   "cell_type": "code",
   "execution_count": 31,
   "metadata": {},
   "outputs": [
    {
     "name": "stdout",
     "output_type": "stream",
     "text": [
      "{'_id': 'CA', 'shootings': 11}\n"
     ]
    }
   ],
   "source": [
    "complex_query_2 = [\n",
    "  { \"$match\": \n",
    "        { \"$and\": \n",
    "            [\n",
    "                {\"gender\": \"M\"},\n",
    "                {\"age\": {\"$lt\": 18}}\n",
    "            ]\n",
    "        }\n",
    "    },\n",
    "  {\n",
    "      \"$lookup\":\n",
    "      {\n",
    "          \"from\": \"City\",       \n",
    "          \"localField\": \"city_id\",  \n",
    "          \"foreignField\": \"_id\", \n",
    "          \"as\": \"c\"\n",
    "      },\n",
    "  },\n",
    "  {  \n",
    "      \"$unwind\": \n",
    "      { \"path\": '$c'} \n",
    "  },\n",
    "  {\n",
    "      \"$lookup\":\n",
    "      {\n",
    "          \"from\": \"State\",      \n",
    "          \"localField\": \"c.state_id\",   \n",
    "          \"foreignField\": \"_id\",\n",
    "          \"as\": \"s\"  \n",
    "      }\n",
    "  },\n",
    "  {  \n",
    "      \"$unwind\": \n",
    "      { \"path\": '$s'} \n",
    "  },\n",
    "  { \"$group\": { \"_id\": \"$s.acronym\", \"shootings\": { \"$sum\": 1 } } },\n",
    "  { \"$sort\": { \"shootings\": -1 } },\n",
    "  { \"$limit\": 1}\n",
    "]\n",
    "\n",
    "response = killings_col.aggregate(complex_query_2)\n",
    "\n",
    "for x in response:\n",
    "    print(x) "
   ]
  },
  {
   "cell_type": "markdown",
   "metadata": {},
   "source": [
    "### Insert Quert - Insert new police killing"
   ]
  },
  {
   "cell_type": "code",
   "execution_count": 32,
   "metadata": {},
   "outputs": [],
   "source": [
    "mydict = {\n",
    "    \"name\": \"John Smith\", \n",
    "    \"date\": datetime.datetime(2020, 2, 25), \n",
    "    \"manner_of_death\": \"shot\", \n",
    "    \"armed\": \"toy weapon\", \n",
    "    \"age\": 34,\n",
    "    \"gender\": \"M\", \n",
    "    \"race_id\": ObjectId(\"63726502634ca21d0f760540\"), \n",
    "    \"city_id\": ObjectId(\"637264fd634ca21d0f75927c\"), \n",
    "    \"signs_of_mental_illness\": True, \n",
    "    \"threat_level\": \"attack\", \n",
    "    \"flee\": None, \n",
    "    \"body_camera\": True \n",
    "}\n",
    "\n",
    "insertion_result = killings_col.insert_one(mydict)"
   ]
  },
  {
   "cell_type": "markdown",
   "metadata": {},
   "source": [
    "### Update Query - Update the date of the police killing"
   ]
  },
  {
   "cell_type": "code",
   "execution_count": 33,
   "metadata": {},
   "outputs": [
    {
     "data": {
      "text/plain": [
       "<pymongo.results.UpdateResult at 0x7fdef443d9f0>"
      ]
     },
     "execution_count": 33,
     "metadata": {},
     "output_type": "execute_result"
    }
   ],
   "source": [
    "new_date = datetime.datetime(2022, 2, 25)\n",
    "\n",
    "killings_col.update_one(\n",
    "    {\"_id\": insertion_result.inserted_id},\n",
    "    {\"$set\": {\"date\": new_date}}\n",
    ")"
   ]
  },
  {
   "cell_type": "markdown",
   "metadata": {},
   "source": [
    "## Index"
   ]
  },
  {
   "cell_type": "code",
   "execution_count": 57,
   "metadata": {},
   "outputs": [],
   "source": [
    "# Number of iterations used in performance\n",
    "iterations = 100\n",
    "\n",
    "# Get average performance\n",
    "def performance(collection, query, is_aggregate):\n",
    "    result = 0\n",
    "    for _ in range(iterations):\n",
    "        time_i = time()\n",
    "        if is_aggregate:\n",
    "            collection.aggregate(query)\n",
    "        else:\n",
    "            collection.find(query)\n",
    "        time_f = time()\n",
    "        result += time_f-time_i\n",
    "    return result / iterations\n",
    "\n",
    "# Get performance for all queries\n",
    "def performance_list():\n",
    "    return {\n",
    "        \"simple_query_1\" : performance(killings_col, simple_query_1, False),\n",
    "        \"simple_query_2\" : performance(killings_col, simple_query_2, False),\n",
    "        \"complex_query_1\" : performance(killings_col, complex_query_1, True),\n",
    "        \"complex_query_2\" : performance(killings_col, complex_query_2, True)\n",
    "    }"
   ]
  },
  {
   "cell_type": "code",
   "execution_count": 35,
   "metadata": {},
   "outputs": [],
   "source": [
    "# Get examined doc num for all queries\n",
    "def examined_list():\n",
    "    return {\n",
    "        \"simple_query_1\": killings_col.find(simple_query_1).explain()[\"executionStats\"][\"totalDocsExamined\"],\n",
    "        \"simple_query_2\": killings_col.find(simple_query_2).explain()[\"executionStats\"][\"totalDocsExamined\"],\n",
    "    }"
   ]
  },
  {
   "cell_type": "markdown",
   "metadata": {},
   "source": [
    "### Performance without indexes"
   ]
  },
  {
   "cell_type": "code",
   "execution_count": 67,
   "metadata": {},
   "outputs": [],
   "source": [
    "city_col = db[\"City\"]\n",
    "state_col = db[\"State\"]\n",
    "\n",
    "# Drop pre-existing indexes\n",
    "killings_col.drop_indexes()\n",
    "city_col.drop_indexes()"
   ]
  },
  {
   "cell_type": "code",
   "execution_count": 58,
   "metadata": {},
   "outputs": [],
   "source": [
    "# Simple query 1 - 2541 docs examined\n",
    "# Simple query 2 - 2539 docs examined\n",
    "\n",
    "performance_no_index = performance_list()"
   ]
  },
  {
   "cell_type": "code",
   "execution_count": 46,
   "metadata": {},
   "outputs": [],
   "source": [
    "examined_no_index = examined_list()"
   ]
  },
  {
   "cell_type": "markdown",
   "metadata": {},
   "source": [
    "### Add indexes"
   ]
  },
  {
   "cell_type": "code",
   "execution_count": 68,
   "metadata": {},
   "outputs": [
    {
     "data": {
      "text/plain": [
       "'simple_query_2_index'"
      ]
     },
     "execution_count": 68,
     "metadata": {},
     "output_type": "execute_result"
    }
   ],
   "source": [
    "# For simple_query 1\n",
    "killings_col.create_index(\n",
    "    [\n",
    "        (\"gender\", pymongo.ASCENDING),\n",
    "        (\"armed\", pymongo.ASCENDING),\n",
    "        (\"age\", pymongo.ASCENDING),\n",
    "        (\"flee\", pymongo.ASCENDING),\n",
    "    ],\n",
    "    name=\"simple_query_1_index\"\n",
    ")\n",
    "\n",
    "# For simple_query 2\n",
    "killings_col.create_index(\n",
    "    [\n",
    "        (\"gender\", pymongo.ASCENDING),\n",
    "        (\"armed\", pymongo.ASCENDING),\n",
    "        (\"flee\", pymongo.ASCENDING)\n",
    "    ],\n",
    "    name=\"simple_query_2_index\"\n",
    ")\n",
    "\n",
    "# # For complex_query 1\n",
    "# killings_col.create_index(\n",
    "#     [\n",
    "#         (\"armed\", pymongo.ASCENDING),\n",
    "#         (\"manner_of_death\", pymongo.ASCENDING),\n",
    "#         (\"age\", pymongo.ASCENDING),\n",
    "#     ],\n",
    "#     name=\"complex_query_1_index\"\n",
    "# )\n",
    "\n",
    "# # For complex_query 1\n",
    "# killings_col.create_index(\n",
    "#     [\n",
    "#         (\"city_id\", pymongo.ASCENDING),\n",
    "#     ],\n",
    "#     name=\"complex_query_1_1_index\"\n",
    "# )\n",
    "\n",
    "# # For complex_query 1\n",
    "# city_col.create_index(\n",
    "#     [\n",
    "#         (\"state_id\", pymongo.ASCENDING),\n",
    "#     ],\n",
    "#     name=\"complex_query_1_index\"\n",
    "# )\n",
    "\n",
    "# # For complex_query 1\n",
    "# killings_col.create_index(\n",
    "#     [\n",
    "#         (\"gender\", pymongo.ASCENDING),\n",
    "#         (\"age\", pymongo.ASCENDING),\n",
    "#     ],\n",
    "#     name=\"complex_query_2_index\"\n",
    "# )\n",
    "\n",
    "\n",
    "# city_col.create_index(\n",
    "#     [\n",
    "#         (\"_id\", pymongo.ASCENDING),\n",
    "#         (\"city_id\", pymongo.ASCENDING),\n",
    "#     ],\n",
    "#     name=\"simple_query_3_index\"\n",
    "# )\n",
    "\n",
    "# state_col.create_index(\n",
    "#     [\n",
    "#         (\"_id\", pymongo.ASCENDING),\n",
    "#         (\"acronym\", pymongo.ASCENDING),\n",
    "#     ],\n",
    "#     name=\"simple_query_3_index\"\n",
    "# )"
   ]
  },
  {
   "cell_type": "code",
   "execution_count": 69,
   "metadata": {},
   "outputs": [
    {
     "data": {
      "text/plain": [
       "{'explainVersion': '1',\n",
       " 'queryPlanner': {'namespace': 'PoliceShootings.PoliceKillings',\n",
       "  'indexFilterSet': False,\n",
       "  'parsedQuery': {'$and': [{'armed': {'$eq': 'unarmed'}},\n",
       "    {'gender': {'$eq': 'M'}},\n",
       "    {'age': {'$lt': 18}}]},\n",
       "  'maxIndexedOrSolutionsReached': False,\n",
       "  'maxIndexedAndSolutionsReached': False,\n",
       "  'maxScansToExplodeReached': False,\n",
       "  'winningPlan': {'stage': 'FETCH',\n",
       "   'inputStage': {'stage': 'IXSCAN',\n",
       "    'keyPattern': {'gender': 1, 'armed': 1, 'age': 1, 'flee': 1},\n",
       "    'indexName': 'simple_query_1_index',\n",
       "    'isMultiKey': False,\n",
       "    'multiKeyPaths': {'gender': [], 'armed': [], 'age': [], 'flee': []},\n",
       "    'isUnique': False,\n",
       "    'isSparse': False,\n",
       "    'isPartial': False,\n",
       "    'indexVersion': 2,\n",
       "    'direction': 'forward',\n",
       "    'indexBounds': {'gender': ['[\"M\", \"M\"]'],\n",
       "     'armed': ['[\"unarmed\", \"unarmed\"]'],\n",
       "     'age': ['[-inf.0, 18)'],\n",
       "     'flee': ['[MinKey, MaxKey]']}}},\n",
       "  'rejectedPlans': [{'stage': 'FETCH',\n",
       "    'filter': {'age': {'$lt': 18}},\n",
       "    'inputStage': {'stage': 'IXSCAN',\n",
       "     'keyPattern': {'gender': 1, 'armed': 1, 'flee': 1},\n",
       "     'indexName': 'simple_query_2_index',\n",
       "     'isMultiKey': False,\n",
       "     'multiKeyPaths': {'gender': [], 'armed': [], 'flee': []},\n",
       "     'isUnique': False,\n",
       "     'isSparse': False,\n",
       "     'isPartial': False,\n",
       "     'indexVersion': 2,\n",
       "     'direction': 'forward',\n",
       "     'indexBounds': {'gender': ['[\"M\", \"M\"]'],\n",
       "      'armed': ['[\"unarmed\", \"unarmed\"]'],\n",
       "      'flee': ['[MinKey, MaxKey]']}}}]},\n",
       " 'executionStats': {'executionSuccess': True,\n",
       "  'nReturned': 6,\n",
       "  'executionTimeMillis': 2,\n",
       "  'totalKeysExamined': 6,\n",
       "  'totalDocsExamined': 6,\n",
       "  'executionStages': {'stage': 'FETCH',\n",
       "   'nReturned': 6,\n",
       "   'executionTimeMillisEstimate': 0,\n",
       "   'works': 8,\n",
       "   'advanced': 6,\n",
       "   'needTime': 0,\n",
       "   'needYield': 0,\n",
       "   'saveState': 0,\n",
       "   'restoreState': 0,\n",
       "   'isEOF': 1,\n",
       "   'docsExamined': 6,\n",
       "   'alreadyHasObj': 0,\n",
       "   'inputStage': {'stage': 'IXSCAN',\n",
       "    'nReturned': 6,\n",
       "    'executionTimeMillisEstimate': 0,\n",
       "    'works': 7,\n",
       "    'advanced': 6,\n",
       "    'needTime': 0,\n",
       "    'needYield': 0,\n",
       "    'saveState': 0,\n",
       "    'restoreState': 0,\n",
       "    'isEOF': 1,\n",
       "    'keyPattern': {'gender': 1, 'armed': 1, 'age': 1, 'flee': 1},\n",
       "    'indexName': 'simple_query_1_index',\n",
       "    'isMultiKey': False,\n",
       "    'multiKeyPaths': {'gender': [], 'armed': [], 'age': [], 'flee': []},\n",
       "    'isUnique': False,\n",
       "    'isSparse': False,\n",
       "    'isPartial': False,\n",
       "    'indexVersion': 2,\n",
       "    'direction': 'forward',\n",
       "    'indexBounds': {'gender': ['[\"M\", \"M\"]'],\n",
       "     'armed': ['[\"unarmed\", \"unarmed\"]'],\n",
       "     'age': ['[-inf.0, 18)'],\n",
       "     'flee': ['[MinKey, MaxKey]']},\n",
       "    'keysExamined': 6,\n",
       "    'seeks': 1,\n",
       "    'dupsTested': 0,\n",
       "    'dupsDropped': 0}},\n",
       "  'allPlansExecution': [{'nReturned': 6,\n",
       "    'executionTimeMillisEstimate': 0,\n",
       "    'totalKeysExamined': 6,\n",
       "    'totalDocsExamined': 6,\n",
       "    'executionStages': {'stage': 'FETCH',\n",
       "     'nReturned': 6,\n",
       "     'executionTimeMillisEstimate': 0,\n",
       "     'works': 7,\n",
       "     'advanced': 6,\n",
       "     'needTime': 0,\n",
       "     'needYield': 0,\n",
       "     'saveState': 0,\n",
       "     'restoreState': 0,\n",
       "     'isEOF': 1,\n",
       "     'docsExamined': 6,\n",
       "     'alreadyHasObj': 0,\n",
       "     'inputStage': {'stage': 'IXSCAN',\n",
       "      'nReturned': 6,\n",
       "      'executionTimeMillisEstimate': 0,\n",
       "      'works': 7,\n",
       "      'advanced': 6,\n",
       "      'needTime': 0,\n",
       "      'needYield': 0,\n",
       "      'saveState': 0,\n",
       "      'restoreState': 0,\n",
       "      'isEOF': 1,\n",
       "      'keyPattern': {'gender': 1, 'armed': 1, 'age': 1, 'flee': 1},\n",
       "      'indexName': 'simple_query_1_index',\n",
       "      'isMultiKey': False,\n",
       "      'multiKeyPaths': {'gender': [], 'armed': [], 'age': [], 'flee': []},\n",
       "      'isUnique': False,\n",
       "      'isSparse': False,\n",
       "      'isPartial': False,\n",
       "      'indexVersion': 2,\n",
       "      'direction': 'forward',\n",
       "      'indexBounds': {'gender': ['[\"M\", \"M\"]'],\n",
       "       'armed': ['[\"unarmed\", \"unarmed\"]'],\n",
       "       'age': ['[-inf.0, 18)'],\n",
       "       'flee': ['[MinKey, MaxKey]']},\n",
       "      'keysExamined': 6,\n",
       "      'seeks': 1,\n",
       "      'dupsTested': 0,\n",
       "      'dupsDropped': 0}}},\n",
       "   {'nReturned': 0,\n",
       "    'executionTimeMillisEstimate': 0,\n",
       "    'totalKeysExamined': 7,\n",
       "    'totalDocsExamined': 7,\n",
       "    'executionStages': {'stage': 'FETCH',\n",
       "     'filter': {'age': {'$lt': 18}},\n",
       "     'nReturned': 0,\n",
       "     'executionTimeMillisEstimate': 0,\n",
       "     'works': 7,\n",
       "     'advanced': 0,\n",
       "     'needTime': 7,\n",
       "     'needYield': 0,\n",
       "     'saveState': 0,\n",
       "     'restoreState': 0,\n",
       "     'isEOF': 0,\n",
       "     'docsExamined': 7,\n",
       "     'alreadyHasObj': 0,\n",
       "     'inputStage': {'stage': 'IXSCAN',\n",
       "      'nReturned': 7,\n",
       "      'executionTimeMillisEstimate': 0,\n",
       "      'works': 7,\n",
       "      'advanced': 7,\n",
       "      'needTime': 0,\n",
       "      'needYield': 0,\n",
       "      'saveState': 0,\n",
       "      'restoreState': 0,\n",
       "      'isEOF': 0,\n",
       "      'keyPattern': {'gender': 1, 'armed': 1, 'flee': 1},\n",
       "      'indexName': 'simple_query_2_index',\n",
       "      'isMultiKey': False,\n",
       "      'multiKeyPaths': {'gender': [], 'armed': [], 'flee': []},\n",
       "      'isUnique': False,\n",
       "      'isSparse': False,\n",
       "      'isPartial': False,\n",
       "      'indexVersion': 2,\n",
       "      'direction': 'forward',\n",
       "      'indexBounds': {'gender': ['[\"M\", \"M\"]'],\n",
       "       'armed': ['[\"unarmed\", \"unarmed\"]'],\n",
       "       'flee': ['[MinKey, MaxKey]']},\n",
       "      'keysExamined': 7,\n",
       "      'seeks': 1,\n",
       "      'dupsTested': 0,\n",
       "      'dupsDropped': 0}}}]},\n",
       " 'command': {'find': 'PoliceKillings',\n",
       "  'filter': {'age': {'$lt': 18}, 'gender': 'M', 'armed': 'unarmed'},\n",
       "  '$db': 'PoliceShootings'},\n",
       " 'serverInfo': {'host': 'cluster0-shard-00-01.k3tzf.mongodb.net',\n",
       "  'port': 27017,\n",
       "  'version': '5.0.14',\n",
       "  'gitVersion': '1b3b0073a0b436a8a502b612f24fb2bd572772e5'},\n",
       " 'serverParameters': {'internalQueryFacetBufferSizeBytes': 104857600,\n",
       "  'internalQueryFacetMaxOutputDocSizeBytes': 104857600,\n",
       "  'internalLookupStageIntermediateDocumentMaxSizeBytes': 16793600,\n",
       "  'internalDocumentSourceGroupMaxMemoryBytes': 104857600,\n",
       "  'internalQueryMaxBlockingSortMemoryUsageBytes': 33554432,\n",
       "  'internalQueryProhibitBlockingMergeOnMongoS': 0,\n",
       "  'internalQueryMaxAddToSetBytes': 104857600,\n",
       "  'internalDocumentSourceSetWindowFieldsMaxMemoryBytes': 104857600},\n",
       " 'ok': 1.0,\n",
       " '$clusterTime': {'clusterTime': Timestamp(1670167687, 1),\n",
       "  'signature': {'hash': b'\\x82\\xc4\\x9bG\\xdd\\xb2\\x85~\\xde\\xb0\\\\\\x8c\\xb7+\\xaa\\xd2l~\\x04g',\n",
       "   'keyId': 7112424722159108099}},\n",
       " 'operationTime': Timestamp(1670167687, 1)}"
      ]
     },
     "execution_count": 69,
     "metadata": {},
     "output_type": "execute_result"
    }
   ],
   "source": [
    "killings_col.find(simple_query_1).explain()"
   ]
  },
  {
   "cell_type": "markdown",
   "metadata": {},
   "source": [
    "### Performance with indexes"
   ]
  },
  {
   "cell_type": "code",
   "execution_count": 70,
   "metadata": {},
   "outputs": [],
   "source": [
    "# Simple query 1 - 6 docs examined\n",
    "# Simple query 2 - 5 docs examined\n",
    "\n",
    "performance_index = performance_list()"
   ]
  },
  {
   "cell_type": "code",
   "execution_count": 48,
   "metadata": {},
   "outputs": [],
   "source": [
    "examined_index = examined_list()"
   ]
  },
  {
   "cell_type": "markdown",
   "metadata": {},
   "source": [
    "### Performance of queries with and without indexes"
   ]
  },
  {
   "cell_type": "code",
   "execution_count": 51,
   "metadata": {},
   "outputs": [
    {
     "name": "stdout",
     "output_type": "stream",
     "text": [
      "Times without indexes:\n",
      "{'complex_query_1': 0.042373716831207275,\n",
      " 'complex_query_2': 0.04892854690551758,\n",
      " 'simple_query_1': 6.3300132751464845e-06,\n",
      " 'simple_query_2': 4.220008850097656e-06}\n",
      "\n",
      "Times with indexes:\n",
      "{'complex_query_1': 0.04191490411758423,\n",
      " 'complex_query_2': 0.04883866310119629,\n",
      " 'simple_query_1': 1.4162063598632812e-05,\n",
      " 'simple_query_2': 8.165836334228516e-06}\n",
      "\n",
      "Examined documents with indexes:\n",
      "{'simple_query_1': 2539, 'simple_query_2': 2539}\n",
      "\n",
      "Examined documents without indexes:\n",
      "{'simple_query_1': 2539, 'simple_query_2': 2539}\n"
     ]
    }
   ],
   "source": [
    "print('Times without indexes:')\n",
    "pprint.pprint(performance_no_index)\n",
    "\n",
    "print('\\nTimes with indexes:')\n",
    "pprint.pprint(performance_index)\n",
    "\n",
    "print('\\nExamined documents with indexes:')\n",
    "pprint.pprint(examined_no_index)\n",
    "\n",
    "print('\\nExamined documents without indexes:')\n",
    "pprint.pprint(examined_index)"
   ]
  },
  {
   "cell_type": "markdown",
   "metadata": {},
   "source": [
    "### Generate Plot"
   ]
  },
  {
   "cell_type": "markdown",
   "metadata": {},
   "source": [
    "#### Simple Queries"
   ]
  },
  {
   "cell_type": "code",
   "execution_count": 71,
   "metadata": {},
   "outputs": [
    {
     "data": {
      "image/png": "[encoded data removed]",
      "text/plain": [
       "<Figure size 640x480 with 1 Axes>"
      ]
     },
     "metadata": {},
     "output_type": "display_data"
    }
   ],
   "source": [
    "X_axis = np.arange(2)\n",
    "\n",
    "plt.bar(X_axis - 0.1, list(performance_no_index.values())[0:2], 0.2, label=\"No Indexes and Optimizations\")\n",
    "plt.bar(X_axis + 0.1, list(performance_index.values())[0:2], 0.2, label=\"With Indexes and Optimizations\")\n",
    "plt.xticks(X_axis, list(performance_no_index.keys())[0:2])\n",
    "plt.legend()\n",
    "plt.xlabel(\"Simple Querie Type\")\n",
    "plt.ylabel(\"Execution Time (s)\")\n",
    "plt.show()"
   ]
  },
  {
   "cell_type": "markdown",
   "metadata": {},
   "source": [
    "#### Complex Queries"
   ]
  },
  {
   "cell_type": "code",
   "execution_count": 64,
   "metadata": {},
   "outputs": [
    {
     "data": {
      "image/png": "[encoded data removed]",
      "text/plain": [
       "<Figure size 640x480 with 1 Axes>"
      ]
     },
     "metadata": {},
     "output_type": "display_data"
    }
   ],
   "source": [
    "X_axis = np.arange(2)\n",
    "\n",
    "plt.bar(X_axis - 0.1, list(performance_no_index.values())[2:4], 0.2, label=\"No Indexes and Optimizations\")\n",
    "plt.bar(X_axis + 0.1, list(performance_index.values())[2:4], 0.2, label=\"With Indexes and Optimizations\")\n",
    "plt.xticks(X_axis, list(performance_no_index.keys())[2:4])\n",
    "plt.legend(loc=\"upper left\")\n",
    "plt.xlabel(\"Complex Querie Type\")\n",
    "plt.ylabel(\"Execution Time (s)\")\n",
    "plt.show()"
   ]
  },
  {
   "cell_type": "markdown",
   "metadata": {},
   "source": [
    "### Close Connection"
   ]
  },
  {
   "cell_type": "code",
   "execution_count": null,
   "metadata": {},
   "outputs": [],
   "source": [
    "client.close()"
   ]
  }
 ],
 "metadata": {
  "kernelspec": {
   "display_name": "Python 3.10.6 64-bit",
   "language": "python",
   "name": "python3"
  },
  "language_info": {
   "codemirror_mode": {
    "name": "ipython",
    "version": 3
   },
   "file_extension": ".py",
   "mimetype": "text/x-python",
   "name": "python",
   "nbconvert_exporter": "python",
   "pygments_lexer": "ipython3",
   "version": "3.10.6"
  },
  "orig_nbformat": 4,
  "vscode": {
   "interpreter": {
    "hash": "916dbcbb3f70747c44a77c7bcd40155683ae19c65e1c03b4aa3499c5328201f1"
   }
  }
 },
 "nbformat": 4,
 "nbformat_minor": 2
}
