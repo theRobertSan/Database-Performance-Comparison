{
 "cells": [
  {
   "cell_type": "markdown",
   "metadata": {},
   "source": [
    "### Imports"
   ]
  },
  {
   "cell_type": "code",
   "execution_count": 85,
   "metadata": {},
   "outputs": [],
   "source": [
    "import pandas as pd\n",
    "from pymongo import MongoClient\n",
    "from bson.objectid import ObjectId\n",
    "import datetime\n",
    "from time import time\n",
    "import pprint\n",
    "import pymongo"
   ]
  },
  {
   "cell_type": "markdown",
   "metadata": {},
   "source": [
    "### Connect to the DB"
   ]
  },
  {
   "cell_type": "code",
   "execution_count": 25,
   "metadata": {},
   "outputs": [],
   "source": [
    "# connection to the database\n",
    "client = MongoClient()\n",
    "\n",
    "db_name = \"PoliceShootings\"\n",
    "\n",
    "db = client[db_name]\n",
    "\n",
    "# Get PoliceKillings collection\n",
    "killings_col = db.PoliceKillings"
   ]
  },
  {
   "cell_type": "markdown",
   "metadata": {},
   "source": [
    "## Simple Queries"
   ]
  },
  {
   "cell_type": "markdown",
   "metadata": {},
   "source": [
    "#### Simple Query 1 - Unarmed Males under 18 killed by Police"
   ]
  },
  {
   "cell_type": "code",
   "execution_count": 26,
   "metadata": {},
   "outputs": [
    {
     "name": "stdout",
     "output_type": "stream",
     "text": [
      "(Deven Guilford, 17)\n",
      "(Jeremy Mardis, 6)\n",
      "(David Joseph, 17)\n",
      "(Jose Raul Cruz, 16)\n",
      "(Jordan Edwards, 15)\n",
      "(Armando Garcia-Muro, 17)\n"
     ]
    }
   ],
   "source": [
    "simple_query_1 = { \n",
    "    'age': { '$lt': 18 }, \n",
    "    'gender': 'M', \n",
    "    'armed': 'unarmed' \n",
    "}\n",
    "my_result = killings_col.find(simple_query_1)\n",
    "for x in my_result:\n",
    "    print(f\"({x['name']}, {int(x['age'])})\")"
   ]
  },
  {
   "cell_type": "markdown",
   "metadata": {},
   "source": [
    "#### Simple Query 2 - Women killed by Police while not fleeing and not armed"
   ]
  },
  {
   "cell_type": "code",
   "execution_count": 27,
   "metadata": {},
   "outputs": [
    {
     "name": "stdout",
     "output_type": "stream",
     "text": [
      "(Autumn Steele, 34)\n",
      "(India Kager, 28)\n",
      "(Ciara Meyer, 12)\n",
      "(Alteria Woods, 21)\n",
      "(Justine Damond, 40)\n"
     ]
    }
   ],
   "source": [
    "simple_query_2 = {\n",
    "    'flee': 'Not fleeing',\n",
    "    'gender': 'F',\n",
    "    'armed': 'unarmed'\n",
    "}\n",
    "my_result = killings_col.find(simple_query_2)\n",
    "for x in my_result:\n",
    "    print(f\"({x['name']}, {int(x['age'])})\")"
   ]
  },
  {
   "cell_type": "markdown",
   "metadata": {},
   "source": [
    "## Complex queries\n"
   ]
  },
  {
   "cell_type": "markdown",
   "metadata": {},
   "source": [
    "#### Complex Query 1 - People armed with a knife shot by police in the state of Texas"
   ]
  },
  {
   "cell_type": "code",
   "execution_count": 59,
   "metadata": {},
   "outputs": [
    {
     "name": "stdout",
     "output_type": "stream",
     "text": [
      "(Richard McClendon, 43.0, TX, knife)\n",
      "(Daniel Brumley, 27.0, TX, knife)\n",
      "(Kristiana Coignard, 17.0, TX, knife)\n",
      "(Jose Antonio Espinoza Ruiz, 56.0, TX, knife)\n",
      "(Kamal Dajani, 26.0, TX, knife)\n",
      "(Randall Waddel, 49.0, TX, knife)\n",
      "(Randall Lance Hughes, 48.0, TX, knife)\n",
      "(Roger Albrecht, nan, TX, knife)\n",
      "(Henry Reyna, 49.0, TX, knife)\n",
      "(Michael Clyde Lynch, 37.0, TX, knife)\n",
      "(Tyler Hunkin, 29.0, TX, knife)\n",
      "(Gregory Mathis, 36.0, TX, knife)\n",
      "(Jose Angel Vallarta, 30.0, TX, knife)\n",
      "(Martin Gomez, 46.0, TX, knife)\n",
      "(Medger Blake, 41.0, TX, knife)\n",
      "(Morgan London Rankins, 30.0, TX, knife)\n",
      "(Epthen Lamont Johnson, 40.0, TX, knife)\n",
      "(Ray Valdez, 55.0, TX, knife)\n",
      "(Rodney Henderson, 48.0, TX, knife)\n",
      "(Emmett Edward Hall, 60.0, TX, knife)\n"
     ]
    }
   ],
   "source": [
    "complex_query_1 = [\n",
    "    { \"$match\": {\"armed\": \"knife\"} },\n",
    "    {\n",
    "        \"$lookup\":\n",
    "        {\n",
    "            \"from\": \"City\",       \n",
    "            \"localField\": \"city_id\",  \n",
    "            \"foreignField\": \"_id\", \n",
    "            \"as\": \"c\"\n",
    "        },\n",
    "    },\n",
    "    {  \n",
    "        \"$unwind\": \n",
    "        { \"path\": '$c'} \n",
    "    },\n",
    "    {\n",
    "        \"$lookup\":\n",
    "        {\n",
    "            \"from\": \"State\",      \n",
    "            \"localField\": \"c.state_id\",   \n",
    "            \"foreignField\": \"_id\",\n",
    "            \"as\": \"s\"  \n",
    "        }\n",
    "    },\n",
    "    {  \n",
    "        \"$unwind\": \n",
    "        { \"path\": '$s'} \n",
    "    },\n",
    "    { '$match': {'s.acronym': 'TX' } },\n",
    "]\n",
    "\n",
    "response = killings_col.aggregate(complex_query_1)\n",
    "\n",
    "for x in response:\n",
    "    print(f\"({x['name']}, {x['age']}, {x['s']['acronym']}, {x['armed']})\")   "
   ]
  },
  {
   "cell_type": "markdown",
   "metadata": {},
   "source": [
    "### Complex Query 2 - State with the most shootings"
   ]
  },
  {
   "cell_type": "code",
   "execution_count": 29,
   "metadata": {},
   "outputs": [
    {
     "name": "stdout",
     "output_type": "stream",
     "text": [
      "{'_id': 'CA', 'shootings': 390}\n"
     ]
    }
   ],
   "source": [
    "complex_query_2 = [\n",
    "  {\n",
    "      \"$lookup\":\n",
    "      {\n",
    "          \"from\": \"City\",       \n",
    "          \"localField\": \"city_id\",  \n",
    "          \"foreignField\": \"_id\", \n",
    "          \"as\": \"c\"\n",
    "      },\n",
    "  },\n",
    "  {  \n",
    "      \"$unwind\": \n",
    "      { \"path\": '$c'} \n",
    "  },\n",
    "  {\n",
    "      \"$lookup\":\n",
    "      {\n",
    "          \"from\": \"State\",      \n",
    "          \"localField\": \"c.state_id\",   \n",
    "          \"foreignField\": \"_id\",\n",
    "          \"as\": \"s\"  \n",
    "      }\n",
    "  },\n",
    "  {  \n",
    "      \"$unwind\": \n",
    "      { \"path\": '$s'} \n",
    "  },\n",
    "  { \"$group\": { \"_id\": \"$s.acronym\", \"shootings\": { \"$sum\": 1 } } },\n",
    "  { \"$sort\": { \"shootings\": -1 } },\n",
    "  { \"$limit\": 1}\n",
    "]\n",
    "\n",
    "response = killings_col.aggregate(complex_query_2)\n",
    "\n",
    "for x in response:\n",
    "    print(x) "
   ]
  },
  {
   "cell_type": "markdown",
   "metadata": {},
   "source": [
    "### Insert Quert - Insert new police killing"
   ]
  },
  {
   "cell_type": "code",
   "execution_count": 30,
   "metadata": {},
   "outputs": [],
   "source": [
    "mydict = {\n",
    "    \"name\": \"John Smith\", \n",
    "    \"date\": datetime.datetime(2020, 2, 25), \n",
    "    \"manner_of_death\": \"shot\", \n",
    "    \"armed\": \"toy weapon\", \n",
    "    \"age\": 34,\n",
    "    \"gender\": \"M\", \n",
    "    \"race_id\": ObjectId(\"63726502634ca21d0f760540\"), \n",
    "    \"city_id\": ObjectId(\"637264fd634ca21d0f75927c\"), \n",
    "    \"signs_of_mental_illness\": True, \n",
    "    \"threat_level\": \"attack\", \n",
    "    \"flee\": None, \n",
    "    \"body_camera\": True \n",
    "}\n",
    "\n",
    "insertion_result = killings_col.insert_one(mydict)"
   ]
  },
  {
   "cell_type": "markdown",
   "metadata": {},
   "source": [
    "### Update Query - Update the date of the police killing"
   ]
  },
  {
   "cell_type": "code",
   "execution_count": 31,
   "metadata": {},
   "outputs": [
    {
     "data": {
      "text/plain": [
       "<pymongo.results.UpdateResult at 0x7f309e83ae00>"
      ]
     },
     "execution_count": 31,
     "metadata": {},
     "output_type": "execute_result"
    }
   ],
   "source": [
    "new_date = datetime.datetime(2022, 2, 25)\n",
    "\n",
    "killings_col.update_one(\n",
    "    {\"_id\": insertion_result.inserted_id},\n",
    "    {\"$set\": {\"date\": new_date}}\n",
    ")"
   ]
  },
  {
   "cell_type": "markdown",
   "metadata": {},
   "source": [
    "## Index"
   ]
  },
  {
   "cell_type": "code",
   "execution_count": 36,
   "metadata": {},
   "outputs": [],
   "source": [
    "# Number of iterations used in performance\n",
    "iterations = 20\n",
    "\n",
    "# Get average performance\n",
    "def performance(collection, query, is_aggregate):\n",
    "    result = 0\n",
    "    for _ in range(iterations):\n",
    "        time_i = time()\n",
    "        if is_aggregate:\n",
    "            collection.aggregate(query)\n",
    "        else:\n",
    "            collection.find(query)\n",
    "        time_f = time()\n",
    "        result += time_f-time_i\n",
    "    return result / iterations\n",
    "\n",
    "# Get performance for all queries\n",
    "def performance_list():\n",
    "    return {\n",
    "        \"simple_query_1\" : performance(killings_col, simple_query_1, False),\n",
    "        \"simple_query_2\" : performance(killings_col, simple_query_2, False),\n",
    "        \"complex_query_1\" : performance(killings_col, complex_query_1, True),\n",
    "        \"complex_query_2\" : performance(killings_col, complex_query_2, True)\n",
    "    }"
   ]
  },
  {
   "cell_type": "code",
   "execution_count": 73,
   "metadata": {},
   "outputs": [],
   "source": [
    "# Get examined doc num for all queries\n",
    "def examined_list():\n",
    "    return {\n",
    "        \"simple_query_1\": killings_col.find(simple_query_1).explain()[\"executionStats\"][\"totalDocsExamined\"],\n",
    "        \"simple_query_2\": killings_col.find(simple_query_2).explain()[\"executionStats\"][\"totalDocsExamined\"],\n",
    "        \"complex_query_1\": None\n",
    "    }"
   ]
  },
  {
   "cell_type": "markdown",
   "metadata": {},
   "source": [
    "### Performance without indexes"
   ]
  },
  {
   "cell_type": "code",
   "execution_count": 75,
   "metadata": {},
   "outputs": [
    {
     "name": "stdout",
     "output_type": "stream",
     "text": [
      "{'complex_query_1': 0.09725010395050049,\n",
      " 'complex_query_2': 0.3797390580177307,\n",
      " 'simple_query_1': 1.0251998901367188e-05,\n",
      " 'simple_query_2': 4.458427429199219e-06}\n"
     ]
    }
   ],
   "source": [
    "# Simple query 1 - 2541 docs examined\n",
    "# Simple query 2 - 2539 docs examined\n",
    "\n",
    "performance_no_index = performance_list()\n",
    "\n",
    "pprint.pprint(performance_no_index)"
   ]
  },
  {
   "cell_type": "code",
   "execution_count": 76,
   "metadata": {},
   "outputs": [
    {
     "name": "stdout",
     "output_type": "stream",
     "text": [
      "{'simple_query_1': 2539, 'simple_query_2': 2539}\n"
     ]
    }
   ],
   "source": [
    "examined_no_index = examined_list()\n",
    "\n",
    "pprint.pprint(examined_no_index)"
   ]
  },
  {
   "cell_type": "markdown",
   "metadata": {},
   "source": [
    "### Add indexes"
   ]
  },
  {
   "cell_type": "code",
   "execution_count": 103,
   "metadata": {},
   "outputs": [],
   "source": [
    "# Drop pre-existing indexes\n",
    "killings_col.drop_indexes()"
   ]
  },
  {
   "cell_type": "code",
   "execution_count": 104,
   "metadata": {},
   "outputs": [
    {
     "data": {
      "text/plain": [
       "'simple_query_3_index'"
      ]
     },
     "execution_count": 104,
     "metadata": {},
     "output_type": "execute_result"
    }
   ],
   "source": [
    "city_col = db[\"City\"]\n",
    "state_col = db[\"State\"]\n",
    "\n",
    "# For simple_query 1\n",
    "killings_col.create_index(\n",
    "    [\n",
    "        (\"gender\", pymongo.ASCENDING),\n",
    "        (\"armed\", pymongo.ASCENDING),\n",
    "        (\"age\", pymongo.ASCENDING)\n",
    "    ],\n",
    "    name=\"simple_query_1_index\"\n",
    ")\n",
    "\n",
    "# For simple_query 2\n",
    "killings_col.create_index(\n",
    "    [\n",
    "        (\"gender\", pymongo.ASCENDING),\n",
    "        (\"armed\", pymongo.ASCENDING),\n",
    "        (\"flee\", pymongo.ASCENDING)\n",
    "    ],\n",
    "    name=\"simple_query_2_index\"\n",
    ")\n",
    "\n",
    "# # For complex_query 1\n",
    "# killings_col.create_index(\n",
    "#     [\n",
    "#         (\"armed\", pymongo.ASCENDING),\n",
    "#         (\"city_id\", pymongo.ASCENDING),\n",
    "#     ],\n",
    "#     name=\"simple_query_3_index\"\n",
    "# )\n",
    "\n",
    "# city_col.create_index(\n",
    "#     [\n",
    "#         (\"_id\", pymongo.ASCENDING),\n",
    "#         (\"city_id\", pymongo.ASCENDING),\n",
    "#     ],\n",
    "#     name=\"simple_query_3_index\"\n",
    "# )\n",
    "\n",
    "# state_col.create_index(\n",
    "#     [\n",
    "#         (\"_id\", pymongo.ASCENDING),\n",
    "#         (\"acronym\", pymongo.ASCENDING),\n",
    "#     ],\n",
    "#     name=\"simple_query_3_index\"\n",
    "# )"
   ]
  },
  {
   "cell_type": "code",
   "execution_count": 105,
   "metadata": {},
   "outputs": [
    {
     "name": "stdout",
     "output_type": "stream",
     "text": [
      "{'complex_query_1': 0.09683300256729126,\n",
      " 'complex_query_2': 0.40439910888671876,\n",
      " 'simple_query_1': 7.2836875915527345e-06,\n",
      " 'simple_query_2': 4.553794860839844e-06}\n"
     ]
    }
   ],
   "source": [
    "# Simple query 1 - 51 docs examined\n",
    "# Simple query 2 - 107 docs examined\n",
    "\n",
    "performance_index = performance_list()\n",
    "\n",
    "pprint.pprint(performance_index)"
   ]
  },
  {
   "cell_type": "code",
   "execution_count": 93,
   "metadata": {},
   "outputs": [
    {
     "name": "stdout",
     "output_type": "stream",
     "text": [
      "{'simple_query_1': 6, 'simple_query_2': 5}\n"
     ]
    }
   ],
   "source": [
    "examined_index = examined_list()\n",
    "\n",
    "pprint.pprint(examined_index)"
   ]
  }
 ],
 "metadata": {
  "kernelspec": {
   "display_name": "Python 3.10.6 64-bit",
   "language": "python",
   "name": "python3"
  },
  "language_info": {
   "codemirror_mode": {
    "name": "ipython",
    "version": 3
   },
   "file_extension": ".py",
   "mimetype": "text/x-python",
   "name": "python",
   "nbconvert_exporter": "python",
   "pygments_lexer": "ipython3",
   "version": "3.10.6"
  },
  "orig_nbformat": 4,
  "vscode": {
   "interpreter": {
    "hash": "916dbcbb3f70747c44a77c7bcd40155683ae19c65e1c03b4aa3499c5328201f1"
   }
  }
 },
 "nbformat": 4,
 "nbformat_minor": 2
}
