{
 "cells": [
  {
   "cell_type": "markdown",
   "metadata": {},
   "source": [
    "### Imports"
   ]
  },
  {
   "cell_type": "code",
   "execution_count": 13,
   "metadata": {},
   "outputs": [],
   "source": [
    "import pandas as pd\n",
    "from pymongo import MongoClient\n",
    "import time\n",
    "from bson.objectid import ObjectId\n",
    "import datetime\n",
    "import numpy as np\n",
    "import sqlite3\n",
    "from time import time\n",
    "import pprint"
   ]
  },
  {
   "cell_type": "markdown",
   "metadata": {},
   "source": [
    "### Connect to the DB"
   ]
  },
  {
   "cell_type": "code",
   "execution_count": 14,
   "metadata": {},
   "outputs": [],
   "source": [
    "# connection to the database\n",
    "client = MongoClient()\n",
    "\n",
    "db_name = \"PoliceShootings\"\n",
    "\n",
    "db = client[db_name]\n",
    "\n",
    "# Get PoliceKillings collection\n",
    "killings_col = db.PoliceKillings"
   ]
  },
  {
   "cell_type": "markdown",
   "metadata": {},
   "source": [
    "## Simple Queries"
   ]
  },
  {
   "cell_type": "markdown",
   "metadata": {},
   "source": [
    "#### Simple Query 1 - Unarmed Males under 18 killed by Police"
   ]
  },
  {
   "cell_type": "code",
   "execution_count": 15,
   "metadata": {},
   "outputs": [
    {
     "name": "stdout",
     "output_type": "stream",
     "text": [
      "(Jeremy Mardis, 6)\n",
      "(Jordan Edwards, 15)\n",
      "(Jose Raul Cruz, 16)\n",
      "(Deven Guilford, 17)\n",
      "(David Joseph, 17)\n",
      "(Armando Garcia-Muro, 17)\n"
     ]
    }
   ],
   "source": [
    "query = { \n",
    "    'age': { '$lt': 18 }, \n",
    "    'gender': 'M', \n",
    "    'armed': 'unarmed' \n",
    "}\n",
    "my_result = killings_col.find(query).sort(\"age\", 1)\n",
    "for x in my_result:\n",
    "    print(f\"({x['name']}, {int(x['age'])})\")"
   ]
  },
  {
   "cell_type": "markdown",
   "metadata": {},
   "source": [
    "#### Simple Query 2 - Women killed by Police while not fleeing and not armed"
   ]
  },
  {
   "cell_type": "code",
   "execution_count": 16,
   "metadata": {},
   "outputs": [
    {
     "name": "stdout",
     "output_type": "stream",
     "text": [
      "(Ciara Meyer, 12)\n",
      "(Alteria Woods, 21)\n",
      "(India Kager, 28)\n",
      "(Autumn Steele, 34)\n",
      "(Justine Damond, 40)\n"
     ]
    }
   ],
   "source": [
    "query = {\n",
    "    'flee': 'Not fleeing',\n",
    "    'gender': 'F',\n",
    "    'armed': 'unarmed'\n",
    "}\n",
    "my_result = killings_col.find(query).sort(\"age\", 1)\n",
    "for x in my_result:\n",
    "    print(f\"({x['name']}, {int(x['age'])})\")"
   ]
  },
  {
   "cell_type": "markdown",
   "metadata": {},
   "source": [
    "## Complex queries\n"
   ]
  },
  {
   "cell_type": "markdown",
   "metadata": {},
   "source": [
    "#### Complex Query 1 - People armed with a knife shot by police in the state of Texas"
   ]
  },
  {
   "cell_type": "code",
   "execution_count": 19,
   "metadata": {},
   "outputs": [
    {
     "name": "stdout",
     "output_type": "stream",
     "text": [
      "(Richard McClendon, 43.0, TX, knife)\n",
      "(Daniel Brumley, 27.0, TX, knife)\n",
      "(Kristiana Coignard, 17.0, TX, knife)\n",
      "(Jose Antonio Espinoza Ruiz, 56.0, TX, knife)\n",
      "(Kamal Dajani, 26.0, TX, knife)\n",
      "(Randall Waddel, 49.0, TX, knife)\n",
      "(Randall Lance Hughes, 48.0, TX, knife)\n",
      "(Roger Albrecht, nan, TX, knife)\n",
      "(Henry Reyna, 49.0, TX, knife)\n",
      "(Michael Clyde Lynch, 37.0, TX, knife)\n",
      "(Tyler Hunkin, 29.0, TX, knife)\n",
      "(Gregory Mathis, 36.0, TX, knife)\n",
      "(Jose Angel Vallarta, 30.0, TX, knife)\n",
      "(Martin Gomez, 46.0, TX, knife)\n",
      "(Medger Blake, 41.0, TX, knife)\n",
      "(Morgan London Rankins, 30.0, TX, knife)\n",
      "(Epthen Lamont Johnson, 40.0, TX, knife)\n",
      "(Ray Valdez, 55.0, TX, knife)\n",
      "(Rodney Henderson, 48.0, TX, knife)\n",
      "(Emmett Edward Hall, 60.0, TX, knife)\n"
     ]
    }
   ],
   "source": [
    "complex_query_1 = [\n",
    "    { \"$match\": {\"armed\": \"knife\"} },\n",
    "    {\n",
    "        \"$lookup\":\n",
    "        {\n",
    "            \"from\": \"City\",       \n",
    "            \"localField\": \"city_id\",  \n",
    "            \"foreignField\": \"_id\", \n",
    "            \"as\": \"c\"\n",
    "        },\n",
    "    },\n",
    "    {  \n",
    "        \"$unwind\": \n",
    "        { \"path\": '$c'} \n",
    "    },\n",
    "    {\n",
    "        \"$lookup\":\n",
    "        {\n",
    "            \"from\": \"State\",      \n",
    "            \"localField\": \"c.state_id\",   \n",
    "            \"foreignField\": \"_id\",\n",
    "            \"as\": \"s\"  \n",
    "        }\n",
    "    },\n",
    "    {  \n",
    "        \"$unwind\": \n",
    "        { \"path\": '$s'} \n",
    "    },\n",
    "    { '$match': {'s.acronym': 'TX' } }\n",
    "]\n",
    "\n",
    "response = killings_col.aggregate(complex_query_1)\n",
    "\n",
    "for x in response:\n",
    "    print(f\"({x['name']}, {x['age']}, {x['s']['acronym']}, {x['armed']})\")   "
   ]
  },
  {
   "cell_type": "markdown",
   "metadata": {},
   "source": [
    "### Complex Query 2 - State with the most shootings"
   ]
  },
  {
   "cell_type": "code",
   "execution_count": 9,
   "metadata": {},
   "outputs": [
    {
     "name": "stdout",
     "output_type": "stream",
     "text": [
      "{'_id': 'CA', 'shootings': 390}\n"
     ]
    }
   ],
   "source": [
    "complex_query_2 = [\n",
    "  {\n",
    "      \"$lookup\":\n",
    "      {\n",
    "          \"from\": \"City\",       \n",
    "          \"localField\": \"city_id\",  \n",
    "          \"foreignField\": \"_id\", \n",
    "          \"as\": \"c\"\n",
    "      },\n",
    "  },\n",
    "  {  \n",
    "      \"$unwind\": \n",
    "      { \"path\": '$c'} \n",
    "  },\n",
    "  {\n",
    "      \"$lookup\":\n",
    "      {\n",
    "          \"from\": \"State\",      \n",
    "          \"localField\": \"c.state_id\",   \n",
    "          \"foreignField\": \"_id\",\n",
    "          \"as\": \"s\"  \n",
    "      }\n",
    "  },\n",
    "  {  \n",
    "      \"$unwind\": \n",
    "      { \"path\": '$s'} \n",
    "  },\n",
    "  { \"$group\": { \"_id\": \"$s.acronym\", \"shootings\": { \"$sum\": 1 } } },\n",
    "  { \"$sort\": { \"shootings\": -1 } },\n",
    "  { \"$limit\": 1}\n",
    "]\n",
    "\n",
    "response = killings_col.aggregate(complex_query_2)\n",
    "\n",
    "for x in response:\n",
    "    print(x) "
   ]
  },
  {
   "cell_type": "markdown",
   "metadata": {},
   "source": [
    "### Insert Quert - Insert new police killing"
   ]
  },
  {
   "cell_type": "code",
   "execution_count": 49,
   "metadata": {},
   "outputs": [],
   "source": [
    "mydict = {\n",
    "    \"name\": \"John Smith\", \n",
    "    \"date\": datetime.datetime(2020, 2, 25), \n",
    "    \"manner_of_death\": \"shot\", \n",
    "    \"armed\": \"toy weapon\", \n",
    "    \"age\": 34,\n",
    "    \"gender\": \"M\", \n",
    "    \"race_id\": ObjectId(\"63726502634ca21d0f760540\"), \n",
    "    \"city_id\": ObjectId(\"637264fd634ca21d0f75927c\"), \n",
    "    \"signs_of_mental_illness\": True, \n",
    "    \"threat_level\": \"attack\", \n",
    "    \"flee\": None, \n",
    "    \"body_camera\": True \n",
    "}\n",
    "\n",
    "insertion_result = killings_col.insert_one(mydict)"
   ]
  },
  {
   "cell_type": "markdown",
   "metadata": {},
   "source": [
    "### Update Query - Update the date of the police killing"
   ]
  },
  {
   "cell_type": "code",
   "execution_count": 50,
   "metadata": {},
   "outputs": [
    {
     "data": {
      "text/plain": [
       "<pymongo.results.UpdateResult at 0x7fd61a82dd20>"
      ]
     },
     "execution_count": 50,
     "metadata": {},
     "output_type": "execute_result"
    }
   ],
   "source": [
    "new_date = datetime.datetime(2022, 2, 25)\n",
    "\n",
    "killings_col.update_one(\n",
    "    {\"_id\": insertion_result.inserted_id},\n",
    "    {\"$set\": {\"date\": new_date}}\n",
    ")"
   ]
  }
 ],
 "metadata": {
  "kernelspec": {
   "display_name": "Python 3.10.6 64-bit",
   "language": "python",
   "name": "python3"
  },
  "language_info": {
   "codemirror_mode": {
    "name": "ipython",
    "version": 3
   },
   "file_extension": ".py",
   "mimetype": "text/x-python",
   "name": "python",
   "nbconvert_exporter": "python",
   "pygments_lexer": "ipython3",
   "version": "3.10.6"
  },
  "orig_nbformat": 4,
  "vscode": {
   "interpreter": {
    "hash": "916dbcbb3f70747c44a77c7bcd40155683ae19c65e1c03b4aa3499c5328201f1"
   }
  }
 },
 "nbformat": 4,
 "nbformat_minor": 2
}
