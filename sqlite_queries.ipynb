{
 "cells": [
  {
   "cell_type": "markdown",
   "metadata": {},
   "source": [
    "### Imports"
   ]
  },
  {
   "cell_type": "code",
   "execution_count": 80,
   "metadata": {},
   "outputs": [],
   "source": [
    "import sqlite3\n",
    "import pprint\n",
    "from time import time\n",
    "import matplotlib.pyplot as plt\n",
    "import numpy as np"
   ]
  },
  {
   "cell_type": "markdown",
   "metadata": {},
   "source": [
    "### Connect to the DB"
   ]
  },
  {
   "cell_type": "code",
   "execution_count": 57,
   "metadata": {},
   "outputs": [],
   "source": [
    "db = sqlite3.connect(\"sqlite3_group10.db\")\n",
    "cur = db.cursor()"
   ]
  },
  {
   "cell_type": "markdown",
   "metadata": {},
   "source": [
    "## Simple Queries"
   ]
  },
  {
   "cell_type": "markdown",
   "metadata": {},
   "source": [
    "### Simple Query 1 - Unarmed Males under 18 killed by Police"
   ]
  },
  {
   "cell_type": "code",
   "execution_count": 58,
   "metadata": {},
   "outputs": [
    {
     "name": "stdout",
     "output_type": "stream",
     "text": [
      "[('Jeremy Mardis', 6),\n",
      " ('Jordan Edwards', 15),\n",
      " ('Jose Raul Cruz', 16),\n",
      " ('Armando Garcia-Muro', 17),\n",
      " ('David Joseph', 17),\n",
      " ('Deven Guilford', 17)]\n"
     ]
    }
   ],
   "source": [
    "simple_query_1 = '''\n",
    "    SELECT name, age \n",
    "    FROM police_killings \n",
    "    WHERE age < 18 \n",
    "    AND gender = \"M\" \n",
    "    AND armed = \"unarmed\" \n",
    "    ORDER BY age;\n",
    "'''\n",
    "\n",
    "results = cur.execute(simple_query_1).fetchall()\n",
    "\n",
    "pprint.pprint(results)"
   ]
  },
  {
   "cell_type": "markdown",
   "metadata": {},
   "source": [
    "### Simple Query 2 - Women killed by Police while not fleeing and not armed"
   ]
  },
  {
   "cell_type": "code",
   "execution_count": 59,
   "metadata": {},
   "outputs": [
    {
     "name": "stdout",
     "output_type": "stream",
     "text": [
      "[('Ciara Meyer', 12),\n",
      " ('Alteria Woods', 21),\n",
      " ('India Kager', 28),\n",
      " ('Autumn Steele', 34),\n",
      " ('Justine Damond', 40)]\n"
     ]
    }
   ],
   "source": [
    "simple_query_2 = '''\n",
    "    SELECT name, age\n",
    "    FROM police_killings\n",
    "    WHERE gender = \"F\"\n",
    "    AND flee = \"Not fleeing\"\n",
    "    AND armed = \"unarmed\"\n",
    "    ORDER BY age;\n",
    "'''\n",
    "\n",
    "results = cur.execute(simple_query_2).fetchall()\n",
    "\n",
    "pprint.pprint(results)"
   ]
  },
  {
   "cell_type": "markdown",
   "metadata": {},
   "source": [
    "### Simple Query 3 - People with NULL values regarding age, race and armed"
   ]
  },
  {
   "cell_type": "code",
   "execution_count": 60,
   "metadata": {},
   "outputs": [
    {
     "name": "stdout",
     "output_type": "stream",
     "text": [
      "[('TK TK', 'M', '16-11-11')]\n"
     ]
    }
   ],
   "source": [
    "simple_query_3 = '''\n",
    "    SELECT name, gender, date\n",
    "    FROM police_killings\n",
    "    WHERE age IS NULL\n",
    "    AND race_id IS NULL\n",
    "    AND armed IS NULL;\n",
    "'''\n",
    "\n",
    "results = cur.execute(simple_query_3).fetchall()\n",
    "\n",
    "pprint.pprint(results)"
   ]
  },
  {
   "cell_type": "markdown",
   "metadata": {},
   "source": [
    "## Complex Queries"
   ]
  },
  {
   "cell_type": "markdown",
   "metadata": {},
   "source": [
    "#### Complex Query 1 - People above 20 armed with a knife shot and Tasered by police in the state of Texas"
   ]
  },
  {
   "cell_type": "code",
   "execution_count": 61,
   "metadata": {},
   "outputs": [
    {
     "name": "stdout",
     "output_type": "stream",
     "text": [
      "('Gregory Mathis', 36)\n",
      "('Randall Lance Hughes', 48)\n",
      "('Rodney Henderson', 48)\n",
      "('Henry Reyna', 49)\n",
      "('Ray Valdez', 55)\n"
     ]
    }
   ],
   "source": [
    "complex_query_1 = '''\n",
    "    SELECT p.name, p.age\n",
    "    FROM police_killings p\n",
    "    LEFT JOIN city c\n",
    "    ON c.id = p.city_id\n",
    "    LEFT JOIN state s\n",
    "    ON c.state_id = s.id\n",
    "    WHERE s.acronym = \"TX\"\n",
    "    AND p.age > 20\n",
    "    AND p.manner_of_death = \"shot and Tasered\"\n",
    "    AND p.armed = \"knife\";\n",
    "'''\n",
    "\n",
    "results = cur.execute(complex_query_1).fetchall()\n",
    "    \n",
    "for x in results:\n",
    "    print(x)"
   ]
  },
  {
   "cell_type": "markdown",
   "metadata": {},
   "source": [
    "#### Complex Query 2 - State with the most shootings against males under the age of 18"
   ]
  },
  {
   "cell_type": "code",
   "execution_count": 62,
   "metadata": {},
   "outputs": [
    {
     "name": "stdout",
     "output_type": "stream",
     "text": [
      "{'_id': 'CA', 'shootings': 11}\n"
     ]
    }
   ],
   "source": [
    "complex_query_2 = '''\n",
    "SELECT state, MAX(mycount)\n",
    "FROM (SELECT s.acronym as state, COUNT(p.name) mycount\n",
    "    FROM police_killings p\n",
    "    INNER JOIN city c\n",
    "    ON c.id = p.city_id\n",
    "    INNER JOIN state s\n",
    "    ON s.id = c.state_id\n",
    "    WHERE p.gender = \"M\"\n",
    "    AND p.age < 18\n",
    "    GROUP BY s.acronym);\n",
    "'''\n",
    "\n",
    "results = cur.execute(complex_query_2).fetchall()\n",
    "\n",
    "for x in results:\n",
    "    print(f\"{{\\'_id\\': \\'{x[0]}\\', \\'shootings\\': {x[1]}}}\")"
   ]
  },
  {
   "cell_type": "markdown",
   "metadata": {},
   "source": [
    "### Insert Query - Insert new police killing"
   ]
  },
  {
   "cell_type": "code",
   "execution_count": 63,
   "metadata": {},
   "outputs": [
    {
     "name": "stdout",
     "output_type": "stream",
     "text": [
      "Inserted successfully in police_killings\n"
     ]
    }
   ],
   "source": [
    "john = (\"John Smith\", \"20-02-25\", \"shot\", \"toy weapon\", 34, \"M\", 1, 1, 1, \"attack\", None, 1)\n",
    "\n",
    "\n",
    "query = '''\n",
    "    INSERT INTO police_killings (name, date, manner_of_death, armed, age, gender, race_id, city_id, signs_of_mental_illness, threat_level, flee, body_camera) \n",
    "    VALUES(?, ?, ?, ?, ?, ?, ?, ?, ?, ?, ? ,?);\n",
    "'''\n",
    "\n",
    "try:\n",
    "    cur.execute(query, john)\n",
    "    db.commit()\n",
    "    print(\"Inserted successfully in police_killings\")\n",
    "except:\n",
    "    print(\"Error inserting in police_killings\")\n",
    "    db.rollback()"
   ]
  },
  {
   "cell_type": "markdown",
   "metadata": {},
   "source": [
    "### Update Query - Update the date of the police killing by the person's name"
   ]
  },
  {
   "cell_type": "code",
   "execution_count": 64,
   "metadata": {},
   "outputs": [
    {
     "name": "stdout",
     "output_type": "stream",
     "text": [
      "Successfully updated police_killings\n"
     ]
    }
   ],
   "source": [
    "query = \"UPDATE police_killings SET date=? WHERE id=?;\"\n",
    "\n",
    "try:\n",
    "    cur.execute(query, (\"22-02-25\", cur.lastrowid))\n",
    "    db.commit()\n",
    "    print(\"Successfully updated police_killings\")\n",
    "except:\n",
    "    print(\"Error updating police_killings\")\n",
    "    db.rollback()"
   ]
  },
  {
   "cell_type": "markdown",
   "metadata": {},
   "source": [
    "# Optimization and indexing"
   ]
  },
  {
   "cell_type": "code",
   "execution_count": 65,
   "metadata": {},
   "outputs": [],
   "source": [
    "# Number of iterations used in performance\n",
    "iterations = 200\n",
    "\n",
    "# Get average performance\n",
    "def performance(query):\n",
    "    result = 0\n",
    "    for _ in range(iterations):\n",
    "        time_i = time()\n",
    "        cur.execute(query)\n",
    "        time_f = time()\n",
    "        result += time_f-time_i\n",
    "    return result / iterations"
   ]
  },
  {
   "cell_type": "markdown",
   "metadata": {},
   "source": [
    "### Dropping indexes (in case there were some)"
   ]
  },
  {
   "cell_type": "code",
   "execution_count": 66,
   "metadata": {},
   "outputs": [
    {
     "data": {
      "text/plain": [
       "<sqlite3.Cursor at 0x7f25ce93fac0>"
      ]
     },
     "execution_count": 66,
     "metadata": {},
     "output_type": "execute_result"
    }
   ],
   "source": [
    "drop_index_1 = \"DROP INDEX IF EXISTS police_killings_index;\"\n",
    "cur.execute(drop_index_1)\n",
    "\n",
    "drop_index_2 = \"DROP INDEX IF EXISTS police_killings_index_2;\"\n",
    "cur.execute(drop_index_2)\n",
    "\n",
    "drop_index_3 = \"DROP INDEX IF EXISTS state_index;\"\n",
    "cur.execute(drop_index_3)"
   ]
  },
  {
   "cell_type": "markdown",
   "metadata": {},
   "source": [
    "### Performance without indexes"
   ]
  },
  {
   "cell_type": "code",
   "execution_count": 67,
   "metadata": {},
   "outputs": [],
   "source": [
    "# Get performance for all queries\n",
    "performance_no_index = {\n",
    "    \"simple_query_1\" : performance(simple_query_1),\n",
    "    \"simple_query_2\" : performance(simple_query_2),\n",
    "    \"complex_query_1\" : performance(complex_query_1),\n",
    "    \"complex_query_2\" : performance(complex_query_2)\n",
    "}"
   ]
  },
  {
   "cell_type": "markdown",
   "metadata": {},
   "source": [
    "### Creating relevant indexes"
   ]
  },
  {
   "cell_type": "code",
   "execution_count": 68,
   "metadata": {},
   "outputs": [
    {
     "data": {
      "text/plain": [
       "<sqlite3.Cursor at 0x7f25ce93fac0>"
      ]
     },
     "execution_count": 68,
     "metadata": {},
     "output_type": "execute_result"
    }
   ],
   "source": [
    "index_1 = '''\n",
    "CREATE INDEX IF NOT EXISTS police_killings_index ON police_killings(armed, gender, age, flee, manner_of_death, name)\n",
    "'''\n",
    "cur.execute(index_1)\n",
    "\n",
    "index_2 = '''\n",
    "CREATE INDEX IF NOT EXISTS police_killings_index_2 ON police_killings(gender, age, city_id)\n",
    "'''\n",
    "cur.execute(index_2)\n",
    "\n",
    "# # acronyms of states cannot be repeated\n",
    "index_3 = \"CREATE UNIQUE INDEX IF NOT EXISTS state_index ON state(acronym)\"\n",
    "cur.execute(index_3)"
   ]
  },
  {
   "cell_type": "markdown",
   "metadata": {},
   "source": [
    "### Show indexes are created"
   ]
  },
  {
   "cell_type": "code",
   "execution_count": 69,
   "metadata": {},
   "outputs": [
    {
     "name": "stdout",
     "output_type": "stream",
     "text": [
      "[('index', 'sqlite_autoindex_city_1', 'city', 5, None),\n",
      " ('index',\n",
      "  'police_killings_index',\n",
      "  'police_killings',\n",
      "  1147,\n",
      "  'CREATE INDEX police_killings_index ON police_killings(armed, gender, age, '\n",
      "  'flee, manner_of_death, name)\\n'),\n",
      " ('index',\n",
      "  'police_killings_index_2',\n",
      "  'police_killings',\n",
      "  1180,\n",
      "  'CREATE INDEX police_killings_index_2 ON police_killings(gender, age, '\n",
      "  'city_id)\\n'),\n",
      " ('index',\n",
      "  'state_index',\n",
      "  'state',\n",
      "  1190,\n",
      "  'CREATE UNIQUE INDEX state_index ON state(acronym)')]\n"
     ]
    }
   ],
   "source": [
    "# print indexes that were created\n",
    "created_indexes = '''\n",
    "SELECT * FROM sqlite_master WHERE type = 'index';\n",
    "'''\n",
    "cur.execute(created_indexes)\n",
    "records_query1 = cur.fetchall()\n",
    "pprint.pprint(records_query1)"
   ]
  },
  {
   "cell_type": "markdown",
   "metadata": {},
   "source": [
    "### Optimized complex queries"
   ]
  },
  {
   "cell_type": "code",
   "execution_count": 70,
   "metadata": {
    "scrolled": true
   },
   "outputs": [
    {
     "name": "stdout",
     "output_type": "stream",
     "text": [
      "[('Gregory Mathis', 36),\n",
      " ('Randall Lance Hughes', 48),\n",
      " ('Rodney Henderson', 48),\n",
      " ('Henry Reyna', 49),\n",
      " ('Ray Valdez', 55)]\n"
     ]
    }
   ],
   "source": [
    "optimized_complex_query_1 = '''\n",
    "    SELECT p.name, p.age\n",
    "    FROM police_killings p\n",
    "    INNER JOIN city c\n",
    "    ON c.id = p.city_id\n",
    "    INNER JOIN state s\n",
    "    ON c.state_id = s.id\n",
    "    WHERE s.acronym = \"TX\"\n",
    "    AND p.age > 20\n",
    "    AND p.manner_of_death= \"shot and Tasered\"\n",
    "    AND p.armed = \"knife\";\n",
    "'''\n",
    "\n",
    "results = cur.execute(optimized_complex_query_1).fetchall()\n",
    "\n",
    "pprint.pprint(results)"
   ]
  },
  {
   "cell_type": "code",
   "execution_count": 71,
   "metadata": {},
   "outputs": [
    {
     "name": "stdout",
     "output_type": "stream",
     "text": [
      "{'_id': 'CA', 'shootings': 11}\n"
     ]
    }
   ],
   "source": [
    "optimized_complex_query_2 = '''\n",
    "    SELECT s.acronym, (COUNT(p.name)) as mycount\n",
    "    FROM police_killings p\n",
    "    INNER JOIN city c\n",
    "    ON c.id = p.city_id\n",
    "    INNER JOIN state s\n",
    "    ON s.id = c.state_id\n",
    "    WHERE p.age < 18\n",
    "    AND p.gender = \"M\"\n",
    "    GROUP BY s.acronym\n",
    "    ORDER BY (COUNT(p.name)) DESC\n",
    "    LIMIT 1;\n",
    "'''\n",
    "\n",
    "results = cur.execute(optimized_complex_query_2).fetchall()\n",
    "\n",
    "for x in results:\n",
    "    print(f\"{{\\'_id\\': \\'{x[0]}\\', \\'shootings\\': {x[1]}}}\")"
   ]
  },
  {
   "cell_type": "markdown",
   "metadata": {},
   "source": [
    "### Performance with indexes and optimization"
   ]
  },
  {
   "cell_type": "code",
   "execution_count": 72,
   "metadata": {},
   "outputs": [],
   "source": [
    "# Get performance for all queries\n",
    "performance_index_opt = {\n",
    "    \"simple_query_1\" : performance(simple_query_1),\n",
    "    \"simple_query_2\" : performance(simple_query_2),\n",
    "    \"complex_query_1\" : performance(optimized_complex_query_1),\n",
    "    \"complex_query_2\" : performance(optimized_complex_query_2)\n",
    "}"
   ]
  },
  {
   "cell_type": "code",
   "execution_count": 73,
   "metadata": {},
   "outputs": [
    {
     "name": "stdout",
     "output_type": "stream",
     "text": [
      "[(5, 0, 0, 'SEARCH s USING COVERING INDEX state_index (acronym=?)'),\n",
      " (9, 0, 0, 'SEARCH p USING INDEX police_killings_index (armed=?)'),\n",
      " (18, 0, 0, 'SEARCH c USING INTEGER PRIMARY KEY (rowid=?)')]\n"
     ]
    }
   ],
   "source": [
    "# Run to see what indexes is the query using\n",
    "pprint.pprint(cur.execute(\"EXPLAIN QUERY PLAN \" + optimized_complex_query_1).fetchall())"
   ]
  },
  {
   "cell_type": "markdown",
   "metadata": {},
   "source": [
    "### Performance of queries with and without indexes"
   ]
  },
  {
   "cell_type": "code",
   "execution_count": 74,
   "metadata": {
    "scrolled": false
   },
   "outputs": [
    {
     "name": "stdout",
     "output_type": "stream",
     "text": [
      "Times without indexes and optimization:\n",
      "{'complex_query_1': 0.0001222383975982666,\n",
      " 'complex_query_2': 0.00036466360092163086,\n",
      " 'simple_query_1': 0.00026903986930847167,\n",
      " 'simple_query_2': 0.00042744159698486327}\n",
      "\n",
      "Times with indexes and optimization:\n",
      "{'complex_query_1': 8.245944976806641e-05,\n",
      " 'complex_query_2': 9.282946586608887e-05,\n",
      " 'simple_query_1': 3.391742706298828e-05,\n",
      " 'simple_query_2': 2.3331642150878906e-05}\n"
     ]
    }
   ],
   "source": [
    "print('Times without indexes and optimization:')\n",
    "pprint.pprint(performance_no_index)\n",
    "\n",
    "print('\\nTimes with indexes and optimization:')\n",
    "pprint.pprint(performance_index_opt)"
   ]
  },
  {
   "cell_type": "markdown",
   "metadata": {},
   "source": [
    "#### Generate Plot"
   ]
  },
  {
   "cell_type": "code",
   "execution_count": 85,
   "metadata": {},
   "outputs": [
    {
     "data": {
      "image/png": "[encoded data removed]",
      "text/plain": [
       "<Figure size 640x480 with 1 Axes>"
      ]
     },
     "metadata": {},
     "output_type": "display_data"
    }
   ],
   "source": [
    "X_axis = np.arange(len(performance_no_index))\n",
    "\n",
    "plt.bar(X_axis - 0.2, performance_no_index.values(), 0.4, label=\"No Indexes and Optimizations\")\n",
    "plt.bar(X_axis + 0.2, performance_index_opt.values(), 0.4, label=\"With Indexes and Optimizations\")\n",
    "plt.xticks(X_axis, performance_no_index.keys())\n",
    "plt.legend()\n",
    "plt.xlabel(\"Querie Type\")\n",
    "plt.ylabel(\"Execution Time (s)\")\n",
    "plt.show()"
   ]
  },
  {
   "cell_type": "markdown",
   "metadata": {},
   "source": [
    "### Close Connection"
   ]
  },
  {
   "cell_type": "code",
   "execution_count": 20,
   "metadata": {},
   "outputs": [],
   "source": [
    "db.close()"
   ]
  }
 ],
 "metadata": {
  "kernelspec": {
   "display_name": "Python 3 (ipykernel)",
   "language": "python",
   "name": "python3"
  },
  "language_info": {
   "codemirror_mode": {
    "name": "ipython",
    "version": 3
   },
   "file_extension": ".py",
   "mimetype": "text/x-python",
   "name": "python",
   "nbconvert_exporter": "python",
   "pygments_lexer": "ipython3",
   "version": "3.10.6"
  },
  "vscode": {
   "interpreter": {
    "hash": "916dbcbb3f70747c44a77c7bcd40155683ae19c65e1c03b4aa3499c5328201f1"
   }
  }
 },
 "nbformat": 4,
 "nbformat_minor": 2
}
