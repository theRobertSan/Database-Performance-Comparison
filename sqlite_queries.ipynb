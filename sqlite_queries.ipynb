{
 "cells": [
  {
   "cell_type": "code",
   "execution_count": 5,
   "metadata": {},
   "outputs": [],
   "source": [
    "import sqlite3\n",
    "import pprint\n",
    "import time\n",
    "\n",
    "db = sqlite3.connect(\"sqlite3_group10.db\")\n",
    "cur = db.cursor()"
   ]
  },
  {
   "cell_type": "code",
   "execution_count": 110,
   "metadata": {},
   "outputs": [],
   "source": [
    "times_sqllite = {'simple1': 0, \n",
    "                 'simple2': 0,\n",
    "                 'simple3': 0,\n",
    "                 'complex1':0,\n",
    "                 'complex2':0}\n",
    "\n",
    "times_sqllite_index = {'simple1': 0, \n",
    "                       'simple2': 0,\n",
    "                       'simple3': 0,\n",
    "                       'complex1':0,\n",
    "                       'complex2':0}"
   ]
  },
  {
   "cell_type": "markdown",
   "metadata": {},
   "source": [
    "### Performance function"
   ]
  },
  {
   "cell_type": "code",
   "execution_count": 111,
   "metadata": {},
   "outputs": [],
   "source": [
    "iter_n = 100\n",
    "\n",
    "def record_time_f(query_n,query,with_index):\n",
    "    results = \"\"\n",
    "    if with_index is False:\n",
    "        for i in range(iter_n):\n",
    "            time_i = time.time()\n",
    "            cur.execute(query)\n",
    "            results = cur.fetchall()\n",
    "            time_f = time.time()\n",
    "            times_sqllite[query_n] = times_sqllite[query_n] + time_f - time_i\n",
    "        times_sqllite[query_n] = times_sqllite[query_n] / iter_n\n",
    "    else:\n",
    "        for i in range(iter_n):\n",
    "            time_i = time.time()\n",
    "            cur.execute(query)\n",
    "            results = cur.fetchall()\n",
    "            time_f = time.time()\n",
    "            times_sqllite_index[query_n] = times_sqllite_index[query_n] + time_f - time_i\n",
    "        times_sqllite_index[query_n] = times_sqllite_index[query_n] / iter_n\n",
    "    return results"
   ]
  },
  {
   "cell_type": "markdown",
   "metadata": {},
   "source": [
    "## Simple Queries"
   ]
  },
  {
   "cell_type": "markdown",
   "metadata": {},
   "source": [
    "### Simple Query 1 - Unarmed Males under 18 killed by Police"
   ]
  },
  {
   "cell_type": "code",
   "execution_count": 112,
   "metadata": {},
   "outputs": [
    {
     "name": "stdout",
     "output_type": "stream",
     "text": [
      "[('Jeremy Mardis', 6),\n",
      " ('Jordan Edwards', 15),\n",
      " ('Jose Raul Cruz', 16),\n",
      " ('Deven Guilford', 17),\n",
      " ('David Joseph', 17),\n",
      " ('Armando Garcia-Muro', 17)]\n"
     ]
    }
   ],
   "source": [
    "query = '''\n",
    "SELECT name, age \n",
    "FROM police_killings \n",
    "WHERE age < 18 \n",
    "AND gender = \"M\" \n",
    "AND armed = \"unarmed\" \n",
    "ORDER BY age;'''\n",
    "\n",
    "results = record_time_f('simple1', query, False)\n",
    "\n",
    "pprint.pprint(results)"
   ]
  },
  {
   "cell_type": "markdown",
   "metadata": {},
   "source": [
    "### Simple Query 2 - Women killed by Police while not fleeing and not armed"
   ]
  },
  {
   "cell_type": "code",
   "execution_count": 113,
   "metadata": {},
   "outputs": [
    {
     "name": "stdout",
     "output_type": "stream",
     "text": [
      "[('Ciara Meyer', 12),\n",
      " ('Alteria Woods', 21),\n",
      " ('India Kager', 28),\n",
      " ('Autumn Steele', 34),\n",
      " ('Justine Damond', 40)]\n"
     ]
    }
   ],
   "source": [
    "query = '''\n",
    "SELECT name, age\n",
    "FROM police_killings\n",
    "WHERE gender = \"F\"\n",
    "AND flee = \"Not fleeing\"\n",
    "AND armed = \"unarmed\"\n",
    "ORDER BY age;\n",
    "'''\n",
    "\n",
    "results = record_time_f('simple2', query, False)\n",
    "\n",
    "pprint.pprint(results)"
   ]
  },
  {
   "cell_type": "markdown",
   "metadata": {},
   "source": [
    "### Simple Query 3 - People with NULL values regarding age, race and armed"
   ]
  },
  {
   "cell_type": "code",
   "execution_count": 114,
   "metadata": {},
   "outputs": [
    {
     "name": "stdout",
     "output_type": "stream",
     "text": [
      "[('TK TK', 'M', '16-11-11')]\n"
     ]
    }
   ],
   "source": [
    "query = '''\n",
    "SELECT name, gender, date\n",
    "FROM police_killings\n",
    "WHERE age IS NULL\n",
    "AND race_id IS NULL\n",
    "AND armed IS NULL;\n",
    "'''\n",
    "\n",
    "results = record_time_f('simple3', query, False)\n",
    "\n",
    "pprint.pprint(results)"
   ]
  },
  {
   "cell_type": "markdown",
   "metadata": {},
   "source": [
    "## Complex Queries"
   ]
  },
  {
   "cell_type": "markdown",
   "metadata": {},
   "source": [
    "### Complex Query 1 - People above 20 armed with a knife shot and Tasered by police in the state of Texas"
   ]
  },
  {
   "cell_type": "code",
   "execution_count": 115,
   "metadata": {},
   "outputs": [
    {
     "name": "stdout",
     "output_type": "stream",
     "text": [
      "('Henry Reyna', 49, 'TX', 'knife')\n",
      "('Rodney Henderson', 48, 'TX', 'knife')\n",
      "('Ray Valdez', 55, 'TX', 'knife')\n",
      "('Randall Lance Hughes', 48, 'TX', 'knife')\n",
      "('Gregory Mathis', 36, 'TX', 'knife')\n"
     ]
    }
   ],
   "source": [
    "query1 = '''\n",
    "SELECT p.name, p.age, s.acronym, p.armed\n",
    "FROM police_killings p\n",
    "INNER JOIN city c\n",
    "ON c.id = p.city_id\n",
    "INNER JOIN state s\n",
    "ON c.state_id = s.id\n",
    "WHERE s.acronym = \"TX\"\n",
    "AND p.age > 20\n",
    "AND p.manner_of_death=\"shot and Tasered\"\n",
    "AND p.armed = \"knife\";\n",
    "'''\n",
    "\n",
    "results = record_time_f('complex1', query1, False)\n",
    "    \n",
    "for x in results:\n",
    "    print(x)"
   ]
  },
  {
   "cell_type": "markdown",
   "metadata": {},
   "source": [
    "### Complex Query 2 - State with the most shootings against males under the age of 18"
   ]
  },
  {
   "cell_type": "code",
   "execution_count": 116,
   "metadata": {},
   "outputs": [
    {
     "name": "stdout",
     "output_type": "stream",
     "text": [
      "{'_id': 'CA', 'shootings': 11}\n"
     ]
    }
   ],
   "source": [
    "query2 = '''\n",
    "SELECT state, MAX(mycount)\n",
    "FROM (SELECT s.acronym as state, COUNT(p.name) mycount\n",
    "    FROM police_killings p\n",
    "    INNER JOIN city c\n",
    "    ON c.id = p.city_id\n",
    "    INNER JOIN state s\n",
    "    ON s.id = c.state_id\n",
    "    WHERE p.gender = \"M\"\n",
    "    AND p.age < 18\n",
    "    GROUP BY s.acronym);\n",
    "'''\n",
    "\n",
    "results = record_time_f('complex2', query2, False)\n",
    "\n",
    "for x in results:\n",
    "    print(f\"{{\\'_id\\': \\'{x[0]}\\', \\'shootings\\': {x[1]}}}\")"
   ]
  },
  {
   "cell_type": "markdown",
   "metadata": {},
   "source": [
    "### Insert Query - Insert new police killing"
   ]
  },
  {
   "cell_type": "code",
   "execution_count": 79,
   "metadata": {},
   "outputs": [
    {
     "name": "stdout",
     "output_type": "stream",
     "text": [
      "Inserted successfully in police_killings\n"
     ]
    }
   ],
   "source": [
    "john = [\n",
    "    (3000, \"John Cena\", \"21-05-12\", \"slap\", \"fidget spinner\", 100, \"M\", 1, 1, 1, \"attack\", \"spaceship\", 1)\n",
    "]\n",
    "\n",
    "query = '''INSERT INTO police_killings (id, name, date, manner_of_death, armed, age, gender, race_id, city_id, signs_of_mental_illness, threat_level, flee, body_camera) \n",
    "                VALUES(?, ?, ?, ?, ?, ?, ?, ?, ?, ?, ?, ? ,?);'''\n",
    "\n",
    "try:\n",
    "    cur.executemany(query, john)\n",
    "    db.commit()\n",
    "    print(\"Inserted successfully in police_killings\")\n",
    "except:\n",
    "    print(\"Error inserting in police_killings\")\n",
    "    db.rollback()"
   ]
  },
  {
   "cell_type": "markdown",
   "metadata": {},
   "source": [
    "### Update Query - Update the date of the police killing by the person's name"
   ]
  },
  {
   "cell_type": "code",
   "execution_count": 80,
   "metadata": {},
   "outputs": [
    {
     "name": "stdout",
     "output_type": "stream",
     "text": [
      "Successfully updated police_killings\n"
     ]
    }
   ],
   "source": [
    "name = \"John Cena\"\n",
    "date = \"22-05-12\"\n",
    "\n",
    "query = \"UPDATE police_killings SET date=? WHERE name=?;\"\n",
    "\n",
    "try:\n",
    "    cur.execute(query, (date, name))\n",
    "    db.commit()\n",
    "    print(\"Successfully updated police_killings\")\n",
    "except:\n",
    "    print(\"Error updating police_killings\")\n",
    "    db.rollback()"
   ]
  },
  {
   "cell_type": "markdown",
   "metadata": {},
   "source": [
    "# Optimization and indexing"
   ]
  },
  {
   "cell_type": "markdown",
   "metadata": {},
   "source": [
    "### Dropping indexes (in case there were some)"
   ]
  },
  {
   "cell_type": "code",
   "execution_count": 117,
   "metadata": {},
   "outputs": [
    {
     "data": {
      "text/plain": [
       "<sqlite3.Cursor at 0x7f91206166c0>"
      ]
     },
     "execution_count": 117,
     "metadata": {},
     "output_type": "execute_result"
    }
   ],
   "source": [
    "drop_index_1 = \"DROP INDEX IF EXISTS police_killings_index;\"\n",
    "cur.execute(drop_index_1)\n",
    "\n",
    "drop_index_2 = \"DROP INDEX IF EXISTS city_index;\"\n",
    "cur.execute(drop_index_2)\n",
    "\n",
    "drop_index_3 = \"DROP INDEX IF EXISTS state_index;\"\n",
    "cur.execute(drop_index_3)"
   ]
  },
  {
   "cell_type": "markdown",
   "metadata": {},
   "source": [
    "### Creating relevant indexes"
   ]
  },
  {
   "cell_type": "code",
   "execution_count": 118,
   "metadata": {},
   "outputs": [
    {
     "data": {
      "text/plain": [
       "<sqlite3.Cursor at 0x7f91206166c0>"
      ]
     },
     "execution_count": 118,
     "metadata": {},
     "output_type": "execute_result"
    }
   ],
   "source": [
    "index_1 = \"CREATE INDEX IF NOT EXISTS police_killings_index ON police_killings(city_id, armed)\"\n",
    "cur.execute(index_1)"
   ]
  },
  {
   "cell_type": "code",
   "execution_count": 119,
   "metadata": {},
   "outputs": [
    {
     "data": {
      "text/plain": [
       "<sqlite3.Cursor at 0x7f91206166c0>"
      ]
     },
     "execution_count": 119,
     "metadata": {},
     "output_type": "execute_result"
    }
   ],
   "source": [
    "index_2 = \"CREATE INDEX IF NOT EXISTS city_index ON city(state_id)\"\n",
    "cur.execute(index_2)"
   ]
  },
  {
   "cell_type": "code",
   "execution_count": 120,
   "metadata": {},
   "outputs": [
    {
     "data": {
      "text/plain": [
       "<sqlite3.Cursor at 0x7f91206166c0>"
      ]
     },
     "execution_count": 120,
     "metadata": {},
     "output_type": "execute_result"
    }
   ],
   "source": [
    "# acronyms of states cannot be repeated\n",
    "index_3 = \"CREATE UNIQUE INDEX IF NOT EXISTS state_index ON state(acronym)\"\n",
    "cur.execute(index_3)"
   ]
  },
  {
   "cell_type": "markdown",
   "metadata": {},
   "source": [
    "### Show indexes are created"
   ]
  },
  {
   "cell_type": "code",
   "execution_count": 121,
   "metadata": {},
   "outputs": [
    {
     "name": "stdout",
     "output_type": "stream",
     "text": [
      "[('index', 'sqlite_autoindex_city_1', 'city', 5, None),\n",
      " ('index',\n",
      "  'police_killings_index',\n",
      "  'police_killings',\n",
      "  1152,\n",
      "  'CREATE INDEX police_killings_index ON police_killings(city_id, armed)'),\n",
      " ('index',\n",
      "  'city_index',\n",
      "  'city',\n",
      "  1164,\n",
      "  'CREATE INDEX city_index ON city(state_id)'),\n",
      " ('index',\n",
      "  'state_index',\n",
      "  'state',\n",
      "  1154,\n",
      "  'CREATE UNIQUE INDEX state_index ON state(acronym)')]\n"
     ]
    }
   ],
   "source": [
    "# print indexes that were created\n",
    "created_indexes = '''\n",
    "SELECT * FROM sqlite_master WHERE type = 'index';\n",
    "'''\n",
    "cur.execute(created_indexes)\n",
    "records_query1 = cur.fetchall()\n",
    "pprint.pprint(records_query1)"
   ]
  },
  {
   "cell_type": "markdown",
   "metadata": {},
   "source": [
    "### Simple queries with indexes"
   ]
  },
  {
   "cell_type": "code",
   "execution_count": 122,
   "metadata": {},
   "outputs": [
    {
     "name": "stdout",
     "output_type": "stream",
     "text": [
      "[('Jeremy Mardis', 6),\n",
      " ('Jordan Edwards', 15),\n",
      " ('Jose Raul Cruz', 16),\n",
      " ('Deven Guilford', 17),\n",
      " ('David Joseph', 17),\n",
      " ('Armando Garcia-Muro', 17)]\n"
     ]
    }
   ],
   "source": [
    "####### Performance testing for simple query 1 #############\n",
    "optimized_query1 = '''\n",
    "SELECT name, age \n",
    "FROM police_killings \n",
    "WHERE age < 18 \n",
    "AND gender = \"M\" \n",
    "AND armed = \"unarmed\" \n",
    "ORDER BY age;'''\n",
    "\n",
    "results = record_time_f('simple1', optimized_query1, True)\n",
    "\n",
    "pprint.pprint(results)"
   ]
  },
  {
   "cell_type": "code",
   "execution_count": 123,
   "metadata": {},
   "outputs": [
    {
     "name": "stdout",
     "output_type": "stream",
     "text": [
      "[('Ciara Meyer', 12),\n",
      " ('Alteria Woods', 21),\n",
      " ('India Kager', 28),\n",
      " ('Autumn Steele', 34),\n",
      " ('Justine Damond', 40)]\n"
     ]
    }
   ],
   "source": [
    "####### Performance testing for simple query 2 #############\n",
    "optimized_query2 = '''\n",
    "SELECT name, age\n",
    "FROM police_killings\n",
    "WHERE gender = \"F\"\n",
    "AND flee = \"Not fleeing\"\n",
    "AND armed = \"unarmed\"\n",
    "ORDER BY age;\n",
    "'''\n",
    "\n",
    "results = record_time_f('simple2', optimized_query2, True)\n",
    "\n",
    "pprint.pprint(results)"
   ]
  },
  {
   "cell_type": "code",
   "execution_count": 124,
   "metadata": {},
   "outputs": [
    {
     "name": "stdout",
     "output_type": "stream",
     "text": [
      "[('TK TK', 'M', '16-11-11')]\n"
     ]
    }
   ],
   "source": [
    "####### Performance testing for simple query 3 #############\n",
    "optimized_query3 = '''\n",
    "SELECT name, gender, date\n",
    "FROM police_killings\n",
    "WHERE age IS NULL\n",
    "AND race_id IS NULL\n",
    "AND armed IS NULL;\n",
    "'''\n",
    "\n",
    "results = record_time_f('simple3', optimized_query3, True)\n",
    "\n",
    "pprint.pprint(results)"
   ]
  },
  {
   "cell_type": "markdown",
   "metadata": {},
   "source": [
    "### Complex queries with indexes"
   ]
  },
  {
   "cell_type": "code",
   "execution_count": 125,
   "metadata": {},
   "outputs": [
    {
     "name": "stdout",
     "output_type": "stream",
     "text": [
      "[('Henry Reyna', 49, 'TX', 'knife'),\n",
      " ('Rodney Henderson', 48, 'TX', 'knife'),\n",
      " ('Ray Valdez', 55, 'TX', 'knife'),\n",
      " ('Randall Lance Hughes', 48, 'TX', 'knife'),\n",
      " ('Gregory Mathis', 36, 'TX', 'knife')]\n"
     ]
    }
   ],
   "source": [
    "####### Performance testing for complex query 1 #############\n",
    "optimized_query1 = '''\n",
    "SELECT p.name, p.age, s.acronym, p.armed\n",
    "FROM police_killings p\n",
    "INNER JOIN city c\n",
    "ON c.id = p.city_id\n",
    "INNER JOIN state s\n",
    "ON c.state_id = s.id\n",
    "WHERE s.acronym = \"TX\"\n",
    "AND p.age > 20\n",
    "AND p.manner_of_death=\"shot and Tasered\"\n",
    "AND p.armed = \"knife\";\n",
    "'''\n",
    "#People armed with a knife shot by police in the state of Texas\n",
    "\n",
    "results = record_time_f('complex1', optimized_query1, True)\n",
    "\n",
    "pprint.pprint(results)"
   ]
  },
  {
   "cell_type": "code",
   "execution_count": 126,
   "metadata": {},
   "outputs": [
    {
     "name": "stdout",
     "output_type": "stream",
     "text": [
      "[('CA', 11)]\n"
     ]
    }
   ],
   "source": [
    "####### Performance testing for complex query 2 #############\n",
    "optimized_query2 = '''\n",
    "SELECT state, MAX(mycount)\n",
    "FROM (SELECT s.acronym as state, COUNT(p.name) mycount\n",
    "    FROM police_killings p\n",
    "    INNER JOIN city c\n",
    "    ON c.id = p.city_id\n",
    "    INNER JOIN state s\n",
    "    ON s.id = c.state_id\n",
    "    WHERE p.gender = \"M\"\n",
    "    AND p.age < 18\n",
    "    GROUP BY s.acronym);\n",
    "'''\n",
    "\n",
    "#State with the most shootings\n",
    "\n",
    "results = record_time_f('complex2', optimized_query2, True)\n",
    "\n",
    "pprint.pprint(results)"
   ]
  },
  {
   "cell_type": "markdown",
   "metadata": {},
   "source": [
    "### Performance of queries with and without indexes"
   ]
  },
  {
   "cell_type": "code",
   "execution_count": 127,
   "metadata": {},
   "outputs": [
    {
     "name": "stdout",
     "output_type": "stream",
     "text": [
      "Times for complex queries without indexes and optimization:\n",
      "simple1 - 0.000378\n",
      "simple2 - 0.000971\n",
      "simple3 - 0.000311\n",
      "complex1 - 0.000769\n",
      "complex2 - 0.001060\n",
      "\n",
      "Times for complex queries with indexes and optimization:\n",
      "simple1 - 0.000350\n",
      "simple2 - 0.000895\n",
      "simple3 - 0.000282\n",
      "complex1 - 0.000751\n",
      "complex2 - 0.001042\n"
     ]
    }
   ],
   "source": [
    "print('Times for complex queries without indexes and optimization:')\n",
    "for t in times_sqllite:\n",
    "     print(f'{t} - {times_sqllite[t]:7.6f}')\n",
    "\n",
    "print('\\nTimes for complex queries with indexes and optimization:')\n",
    "for t in times_sqllite_index:\n",
    "     print(f'{t} - {times_sqllite_index[t]:7.6f}')"
   ]
  },
  {
   "cell_type": "code",
   "execution_count": 254,
   "metadata": {},
   "outputs": [],
   "source": [
    "db.close()"
   ]
  }
 ],
 "metadata": {
  "kernelspec": {
   "display_name": "Python 3 (ipykernel)",
   "language": "python",
   "name": "python3"
  },
  "language_info": {
   "codemirror_mode": {
    "name": "ipython",
    "version": 3
   },
   "file_extension": ".py",
   "mimetype": "text/x-python",
   "name": "python",
   "nbconvert_exporter": "python",
   "pygments_lexer": "ipython3",
   "version": "3.9.12"
  },
  "vscode": {
   "interpreter": {
    "hash": "916dbcbb3f70747c44a77c7bcd40155683ae19c65e1c03b4aa3499c5328201f1"
   }
  }
 },
 "nbformat": 4,
 "nbformat_minor": 2
}
