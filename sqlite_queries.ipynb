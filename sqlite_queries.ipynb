{
 "cells": [
  {
   "cell_type": "markdown",
   "metadata": {},
   "source": [
    "### Imports"
   ]
  },
  {
   "cell_type": "code",
   "execution_count": 1,
   "metadata": {},
   "outputs": [],
   "source": [
    "import sqlite3\n",
    "import pprint\n",
    "\n",
    "db = sqlite3.connect(\"sqlite3_group10.db\")\n",
    "cur = db.cursor()"
   ]
  },
  {
   "cell_type": "markdown",
   "metadata": {},
   "source": [
    "## Simple Queries"
   ]
  },
  {
   "cell_type": "markdown",
   "metadata": {},
   "source": [
    "### Simple Query 1 - Unarmed Males under 18 killed by Police"
   ]
  },
  {
   "cell_type": "code",
   "execution_count": 2,
   "metadata": {},
   "outputs": [
    {
     "name": "stdout",
     "output_type": "stream",
     "text": [
      "[('Jeremy Mardis', 6),\n",
      " ('Jordan Edwards', 15),\n",
      " ('Jose Raul Cruz', 16),\n",
      " ('Deven Guilford', 17),\n",
      " ('David Joseph', 17),\n",
      " ('Armando Garcia-Muro', 17)]\n"
     ]
    }
   ],
   "source": [
    "query = '''\n",
    "SELECT name, age \n",
    "FROM police_killings \n",
    "WHERE age < 18 \n",
    "AND gender = \"M\" \n",
    "AND armed = \"unarmed\" \n",
    "ORDER BY age;'''\n",
    "\n",
    "cur.execute(query)\n",
    "\n",
    "pprint.pprint(cur.fetchall())"
   ]
  },
  {
   "cell_type": "markdown",
   "metadata": {},
   "source": [
    "### Simple Query 2 - Women killed by Police while not fleeing and not armed in 2016"
   ]
  },
  {
   "cell_type": "code",
   "execution_count": 3,
   "metadata": {},
   "outputs": [
    {
     "name": "stdout",
     "output_type": "stream",
     "text": [
      "[('Ciara Meyer', 12, '16-01-11')]\n"
     ]
    }
   ],
   "source": [
    "query = '''\n",
    "SELECT name, age, date as this_date\n",
    "FROM police_killings\n",
    "WHERE gender = \"F\"\n",
    "AND flee = \"Not fleeing\"\n",
    "AND armed = \"unarmed\"\n",
    "AND date >= \"16-01-01\"\n",
    "AND date < \"17-01-01\"\n",
    "ORDER BY age;\n",
    "'''\n",
    "cur.execute(query)\n",
    "\n",
    "pprint.pprint(cur.fetchall())"
   ]
  },
  {
   "cell_type": "markdown",
   "metadata": {},
   "source": [
    "### Simple Query 3 - People with NULL values regarding age, race and armed"
   ]
  },
  {
   "cell_type": "code",
   "execution_count": 4,
   "metadata": {},
   "outputs": [
    {
     "name": "stdout",
     "output_type": "stream",
     "text": [
      "[('TK TK', 'M', '16-11-11')]\n"
     ]
    }
   ],
   "source": [
    "query = '''\n",
    "SELECT name, gender, date\n",
    "FROM police_killings\n",
    "WHERE age IS NULL\n",
    "AND race_id IS NULL\n",
    "AND armed IS NULL;\n",
    "'''\n",
    "\n",
    "cur.execute(query)\n",
    "\n",
    "pprint.pprint(cur.fetchall())"
   ]
  },
  {
   "cell_type": "markdown",
   "metadata": {},
   "source": [
    "## Complex Queries"
   ]
  },
  {
   "cell_type": "markdown",
   "metadata": {},
   "source": [
    "### Complex Query 1 - People armed with a knife shot by police in the state of Texas"
   ]
  },
  {
   "cell_type": "code",
   "execution_count": 5,
   "metadata": {},
   "outputs": [
    {
     "name": "stdout",
     "output_type": "stream",
     "text": [
      "[('Richard McClendon', 43, 'TX'),\n",
      " ('Daniel Brumley', 27, 'TX'),\n",
      " ('Kristiana Coignard', 17, 'TX'),\n",
      " ('Jose Antonio Espinoza Ruiz', 56, 'TX'),\n",
      " ('Kamal Dajani', 26, 'TX'),\n",
      " ('Randall Waddel', 49, 'TX'),\n",
      " ('Randall Lance Hughes', 48, 'TX'),\n",
      " ('Roger Albrecht', None, 'TX'),\n",
      " ('Henry Reyna', 49, 'TX'),\n",
      " ('Michael Clyde Lynch', 37, 'TX'),\n",
      " ('Tyler Hunkin', 29, 'TX'),\n",
      " ('Gregory Mathis', 36, 'TX'),\n",
      " ('Jose Angel Vallarta', 30, 'TX'),\n",
      " ('Martin Gomez', 46, 'TX'),\n",
      " ('Medger Blake', 41, 'TX'),\n",
      " ('Morgan London Rankins', 30, 'TX'),\n",
      " ('Epthen Lamont Johnson', 40, 'TX'),\n",
      " ('Ray Valdez', 55, 'TX'),\n",
      " ('Rodney Henderson', 48, 'TX'),\n",
      " ('Emmett Edward Hall', 60, 'TX')]\n"
     ]
    }
   ],
   "source": [
    "query = '''\n",
    "SELECT p.name, p.age, s.acronym\n",
    "FROM police_killings p\n",
    "INNER JOIN city c\n",
    "ON c.id = p.city_id\n",
    "INNER JOIN state s\n",
    "ON c.state_id = s.id\n",
    "WHERE s.acronym = \"TX\"\n",
    "AND p.armed = \"knife\";\n",
    "'''\n",
    "\n",
    "cur.execute(query)\n",
    "\n",
    "pprint.pprint(cur.fetchall())"
   ]
  },
  {
   "cell_type": "markdown",
   "metadata": {},
   "source": [
    "### Complex Query 2 - State with the most shootings"
   ]
  },
  {
   "cell_type": "code",
   "execution_count": 6,
   "metadata": {},
   "outputs": [
    {
     "name": "stdout",
     "output_type": "stream",
     "text": [
      "[('CA', 390)]\n"
     ]
    }
   ],
   "source": [
    "query = '''\n",
    "SELECT state, MAX(mycount)\n",
    "FROM (SELECT s.acronym as state, COUNT(p.name) mycount\n",
    "    FROM police_killings p\n",
    "    INNER JOIN city c\n",
    "    ON c.id = p.city_id\n",
    "    INNER JOIN state s\n",
    "    ON s.id = c.state_id\n",
    "    GROUP BY s.acronym);\n",
    "'''\n",
    "\n",
    "cur.execute(query)\n",
    "\n",
    "pprint.pprint(cur.fetchall())"
   ]
  },
  {
   "cell_type": "markdown",
   "metadata": {},
   "source": [
    "### Insert Query - Insert new police killing"
   ]
  },
  {
   "cell_type": "code",
   "execution_count": 7,
   "metadata": {},
   "outputs": [
    {
     "name": "stdout",
     "output_type": "stream",
     "text": [
      "Inserted successfully in police_killings\n"
     ]
    }
   ],
   "source": [
    "john = [\n",
    "    (3000, \"John Smith\", \"21-05-12\", \"shot\", \"machine gun\", 34, \"M\", 1, 1, 1, \"attack\", None, 1)\n",
    "]\n",
    "\n",
    "query = '''INSERT INTO police_killings (id, name, date, manner_of_death, armed, age, gender, race_id, city_id, signs_of_mental_illness, threat_level, flee, body_camera) \n",
    "                VALUES(?, ?, ?, ?, ?, ?, ?, ?, ?, ?, ?, ? ,?);'''\n",
    "\n",
    "try:\n",
    "    cur.executemany(query, john)\n",
    "    db.commit()\n",
    "    print(\"Inserted successfully in police_killings\")\n",
    "except:\n",
    "    print(\"Error inserting in police_killings\")\n",
    "    db.rollback()"
   ]
  },
  {
   "cell_type": "markdown",
   "metadata": {},
   "source": [
    "### Update Query - Update the date of the police killing by the person's name"
   ]
  },
  {
   "cell_type": "code",
   "execution_count": 8,
   "metadata": {},
   "outputs": [
    {
     "name": "stdout",
     "output_type": "stream",
     "text": [
      "Successfully updated police_killings\n"
     ]
    }
   ],
   "source": [
    "name = \"John Smith\"\n",
    "date = \"21-05-12\"\n",
    "\n",
    "query = \"UPDATE police_killings SET date=? WHERE name=?;\"\n",
    "\n",
    "try:\n",
    "    cur.execute(query, (date, name))\n",
    "    db.commit()\n",
    "    print(\"Successfully updated police_killings\")\n",
    "except:\n",
    "    print(\"Error updating police_killings\")\n",
    "    db.rollback()"
   ]
  }
 ],
 "metadata": {
  "kernelspec": {
   "display_name": "Python 3.10.6 64-bit",
   "language": "python",
   "name": "python3"
  },
  "language_info": {
   "codemirror_mode": {
    "name": "ipython",
    "version": 3
   },
   "file_extension": ".py",
   "mimetype": "text/x-python",
   "name": "python",
   "nbconvert_exporter": "python",
   "pygments_lexer": "ipython3",
   "version": "3.10.6"
  },
  "orig_nbformat": 4,
  "vscode": {
   "interpreter": {
    "hash": "916dbcbb3f70747c44a77c7bcd40155683ae19c65e1c03b4aa3499c5328201f1"
   }
  }
 },
 "nbformat": 4,
 "nbformat_minor": 2
}
